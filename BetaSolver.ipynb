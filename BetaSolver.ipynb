{
 "cells": [
  {
   "cell_type": "markdown",
   "id": "5948341b-3291-40ee-84f7-85f479c794fa",
   "metadata": {},
   "source": [
    "# 1. Load MoonBoard Problem Data"
   ]
  },
  {
   "cell_type": "code",
   "execution_count": 1,
   "id": "225813e7-a955-4dd4-a8c6-3db8c3fba889",
   "metadata": {},
   "outputs": [],
   "source": [
    "import pickle\n",
    "import numpy as np\n",
    "import matplotlib.pyplot as plt\n",
    "import copy\n",
    "from GraphFunctions import *"
   ]
  },
  {
   "cell_type": "code",
   "execution_count": 2,
   "id": "15d2afa2-a2fd-4644-bfe9-baf2d7478b2b",
   "metadata": {},
   "outputs": [],
   "source": [
    "#Data is taken from https://github.com/jrchang612/MoonBoardRNN\n",
    "raw_data_path = 'moonGen_scrape_2016_final'\n",
    "with open(raw_data_path, 'rb') as f:\n",
    "    MoonBoard_2016_raw = pickle.load(f)\n",
    "    \n",
    "#Make holds list of numpy arrays\n",
    "for key, problem in MoonBoard_2016_raw.items():\n",
    "    problem['start'] = [np.array(el) for el in problem['start']]\n",
    "    problem['mid'] = [np.array(el) for el in problem['mid']]\n",
    "    problem['end'] = [np.array(el) for el in problem['end']]\n",
    "    \n",
    "    if len(problem['start']) > 2: #Some problems were transcribed weirdly and have many repeating holds\n",
    "        problem['start'] = list(np.unique(np.array(problem['start']), axis = 0))\n",
    "        problem['mid'] = list(np.unique(np.array(problem['mid']), axis = 0))\n",
    "        problem['end'] = list(np.unique(np.array(problem['end']), axis = 0))"
   ]
  },
  {
   "cell_type": "markdown",
   "id": "04b6cdcf-4376-4850-888c-b0d1d32f095c",
   "metadata": {},
   "source": [
    "Create a list of problems than have been repeated at least once. Augment the data by creating left-right mirrored versions of each of these climbs, which should have the same difficulty. "
   ]
  },
  {
   "cell_type": "code",
   "execution_count": 3,
   "id": "22ba16ab-6583-47b7-b628-c4cb93d3e0d0",
   "metadata": {},
   "outputs": [
    {
     "name": "stdout",
     "output_type": "stream",
     "text": [
      "There are 50140 climbs with difficulty between V4 and V11 that have been repeated at least once.\n"
     ]
    }
   ],
   "source": [
    "problem_list = []\n",
    "for key, problem in MoonBoard_2016_raw.items():\n",
    "    if grade_to_class[problem['grade']] > 0.5 and grade_to_class[problem['grade']] < 10.5 and problem['repeats'] >= 1 and len(problem['start']) <= 2: #<9.5 make V10\n",
    "        problem['mirrored'] = False\n",
    "        problem_list += [problem]\n",
    "\n",
    "        mirrored_problem = copy.deepcopy(problem)\n",
    "        mirrored_problem['mirrored'] = True\n",
    "        mirrored_problem['start'] = [np.array([1, -1])*(np.array([10, 0]) - el) for el in mirrored_problem['start']]\n",
    "        mirrored_problem['mid'] = [np.array([1, -1])*(np.array([10, 0]) - el) for el in mirrored_problem['mid']]\n",
    "        mirrored_problem['end'] = [np.array([1, -1])*(np.array([10, 0]) - el) for el in mirrored_problem['end']]\n",
    "        problem_list += [mirrored_problem]\n",
    "        \n",
    "print(\"There are %d climbs with difficulty between V4 and V11 that have been repeated at least once.\" %len(problem_list))"
   ]
  },
  {
   "cell_type": "code",
   "execution_count": 4,
   "id": "63f22a5c-cc6a-4f35-a636-7c31a92fcad9",
   "metadata": {},
   "outputs": [
    {
     "data": {
      "image/png": "[encoded data removed]",
      "text/plain": [
       "<Figure size 640x480 with 1 Axes>"
      ]
     },
     "metadata": {},
     "output_type": "display_data"
    }
   ],
   "source": [
    "grades = np.zeros(len(problem_list))\n",
    "for i in range(len(problem_list)):\n",
    "    grades[i] = grade_to_class[problem_list[i]['grade']]\n",
    "\n",
    "plt.hist(grades, bins = [0.5, 1.5, 2.5, 3.5, 4.5, 5.5, 6.5, 7.5, 8.5, 9.5,10.5])\n",
    "plt.xticks([1, 2, 3, 4, 5, 6, 7, 8, 9, 10])\n",
    "plt.xlim([0, 11])\n",
    "plt.xlabel(\"Climb difficulty class\")\n",
    "plt.ylabel(\"Number of climbs\")\n",
    "plt.title(\"Histogram of Climb Difficulties\")\n",
    "plt.show()"
   ]
  },
  {
   "cell_type": "markdown",
   "id": "87e31944-0a75-4182-870a-4156d441b22d",
   "metadata": {},
   "source": [
    "# 2. Load Moonnboard Hold Data"
   ]
  },
  {
   "cell_type": "code",
   "execution_count": 5,
   "id": "e3a46b8d-5b33-4902-a93a-690e87cbca64",
   "metadata": {},
   "outputs": [],
   "source": [
    "import pandas as pd"
   ]
  },
  {
   "cell_type": "code",
   "execution_count": 6,
   "id": "83b1b449-3a07-4899-af5e-db93b3520085",
   "metadata": {},
   "outputs": [],
   "source": [
    "#Read in the data about the difficulty scores and angles of each hold on the board. These difficulty scores were taken by hand\n",
    "holdDiff = pd.read_csv(\"holdData.csv\")\n",
    "X_coord, Y_coord, LH, RH, Angle = holdDiff['X_coord'], holdDiff['Y_coord'], holdDiff['Difficulties LH'], holdDiff['Difficulties RH'], holdDiff['Angle']\n",
    "holdDict = {}\n",
    "for i in range(len(X_coord)):\n",
    "    holdDict[(X_coord[i], Y_coord[i])] = {'LH': LH[i], \n",
    "                              'RH': RH[i],\n",
    "                              'Angle': Angle[i]}"
   ]
  },
  {
   "cell_type": "code",
   "execution_count": 7,
   "id": "4fe46f24-b17c-44aa-bcd8-febcfedca823",
   "metadata": {},
   "outputs": [],
   "source": [
    "#For mirrored climbs, the hold parameters needs to be mirrored as well. \n",
    "holdDictMirror = {}\n",
    "for key, el in holdDict.items():\n",
    "    holdDictMirror[(10-key[0], key[1])] = {'LH': el['RH'],\n",
    "                                        'RH': el['LH'],\n",
    "                                        'Angle': -el['Angle']}"
   ]
  },
  {
   "cell_type": "markdown",
   "id": "b724e6c3-4fe2-4c7e-9de5-8065a2e92c48",
   "metadata": {},
   "source": [
    "# 3. Make Problems Into Graph"
   ]
  },
  {
   "cell_type": "markdown",
   "id": "e40894e8-bf9c-47a1-8cd7-dc6209e977cc",
   "metadata": {},
   "source": [
    "Each problem on the moonboard is defined by a set of holds. The position of a climber, while climbing, can be defined by the position of their left hand and their right hand. From any position, they can move either their left or right hand. I create a graph in which each position, defined by a unique left hand and right hand pair, is a node. Each position, or node, is connected to every other position that requires moving only one hand. The edge value of the connections will later be learned and computed using a MLP model; by default they are initialized to zero. The problemGraph object is equiped to compute the optimal sequence given its edge values.\n",
    "\n",
    "Initalizing the graphs takes a few minutes because it requires enumerating every possible move for every problem. This including enumarting moves that any climber would know, from the get go, is unrealistic, since I am trying to avoid biasing the algorithm towards any particular sequences. "
   ]
  },
  {
   "cell_type": "code",
   "execution_count": 8,
   "id": "2826de9b-893f-4444-951d-adf015739cdd",
   "metadata": {},
   "outputs": [],
   "source": [
    "graph_list = []\n",
    "for problem in problem_list:\n",
    "    if problem['mirrored'] == False:\n",
    "        graph_list += [problemGraph(problem, holdDict)]\n",
    "    else:\n",
    "        graph_list += [problemGraph(problem, holdDictMirror)]"
   ]
  },
  {
   "cell_type": "markdown",
   "id": "f7bf7459-fc04-4414-8d45-3548d82dc693",
   "metadata": {},
   "source": [
    "# 4. Define the Model"
   ]
  },
  {
   "cell_type": "code",
   "execution_count": 9,
   "id": "8ab867bd-3b7a-4346-906d-83e2a5371ab7",
   "metadata": {},
   "outputs": [],
   "source": [
    "import torch\n",
    "import torch.nn as nn\n",
    "import torch.optim as optim\n",
    "device = torch.device(\"cuda\" if torch.cuda.is_available() else \"cpu\")\n",
    "\n",
    "from sklearn import metrics\n",
    "from sklearn.model_selection import train_test_split"
   ]
  },
  {
   "cell_type": "raw",
   "id": "5bd86806-f56a-499b-9c99-279209b9107b",
   "metadata": {},
   "source": [
    "In my graph neural network, the nodes values are static and the edge values are associated with the output of an unknown function acting on an 18 dimensional vector describing the movement from one node to the next (this 18 values are described in detail in the GitHUB readme file). Here, I create a simple MLP model for this unknown function that can be trained on. \n",
    "\n",
    "Inputs to the model have the dimension (N, N_s, 18), where N is the batch size of the input and N_s is the length of the sequence. Since the length of the optimal sequence varies from one climb to the number, N_s varies from one climb to the next. To enable vectorized computation, this is addressed by padding all sequences to the same maximum length N_s and defining a mask such that the effects of padded terms are ignored."
   ]
  },
  {
   "cell_type": "code",
   "execution_count": 10,
   "id": "d2fdcbbc-d404-487a-9c3f-d82f771f69ca",
   "metadata": {},
   "outputs": [],
   "source": [
    "class EdgeModel(torch.nn.Module):\n",
    "    def __init__(self, input_size = 18, num_layers = 3, hidden = 20):\n",
    "        super(EdgeModel, self).__init__()\n",
    "        self.relu = torch.nn.ReLU()\n",
    "        self.lrelu = torch.nn.LeakyReLU(negative_slope=0.0001)\n",
    "\n",
    "        self.linear_layers = nn.ModuleList()\n",
    "        self.linear_layers.append(torch.nn.Linear(input_size, hidden))\n",
    "\n",
    "        for i in range(num_layers):\n",
    "            self.linear_layers.append(torch.nn.Linear(hidden, hidden))\n",
    "            \n",
    "        self.linear_layers.append(torch.nn.Linear(hidden, 100))\n",
    "        self.linear_layers.append(torch.nn.Linear(100, 10))\n",
    "        self.linear_layers.append(torch.nn.Linear(10, 1))\n",
    "\n",
    "    def forward(self, x, masks):\n",
    "\n",
    "        for i in range(len(self.linear_layers)-1):\n",
    "            linear = self.linear_layers[i]\n",
    "            x = (linear(x).permute(2, 0 ,1)*masks).permute(1,2,0)\n",
    "            x = self.lrelu(x #lrelu helped with consistency and convergence \n",
    "\n",
    "        x = (self.linear_layers[-1](x).permute(2, 0 ,1)*masks).permute(1,2,0)\n",
    "        x = self.relu(x) #This ensures the ouput is strictly positive, since a best can never be so easy that it makes a climb easier. \n",
    "        return x"
   ]
  },
  {
   "cell_type": "code",
   "execution_count": 11,
   "id": "132b547e-1e54-4ea0-aa1a-3e95d73610e5",
   "metadata": {},
   "outputs": [
    {
     "name": "stdout",
     "output_type": "stream",
     "text": [
      "EdgeModel(\n",
      "  (relu): ReLU()\n",
      "  (lrelu): LeakyReLU(negative_slope=0.0001)\n",
      "  (linear_layers): ModuleList(\n",
      "    (0): Linear(in_features=18, out_features=50, bias=True)\n",
      "    (1-3): 3 x Linear(in_features=50, out_features=50, bias=True)\n",
      "    (4): Linear(in_features=50, out_features=100, bias=True)\n",
      "    (5): Linear(in_features=100, out_features=10, bias=True)\n",
      "    (6): Linear(in_features=10, out_features=1, bias=True)\n",
      "  )\n",
      ")\n",
      "\n",
      "Total numer of trainable parameters is 14721.\n"
     ]
    }
   ],
   "source": [
    "n_resequence = 30 #Number of time to recalculate the optimal sequences for each climb\n",
    "n_epochs = 100 #Number of training epoch for each set of optimal sequences\n",
    "batch_size = 256 #The batch size during training\n",
    "\n",
    "torch.manual_seed(15) #Set the seed for initializing the model for consistency, but does not really matter #15 woorked well\n",
    "model = EdgeModel(input_size = 18, hidden = 50, num_layers = 3).to(device) #Create the model\n",
    "optimizer = optim.Adam(model.parameters(), lr= 1e-5, weight_decay= 1) #Create the optimizer with learning rate 1e-5 and L2 regularization constant of 1\n",
    "loss_fn = nn.MSELoss(reduction = 'mean')  # L2 loss\n",
    "\n",
    "printModelSummary(model)"
   ]
  },
  {
   "cell_type": "code",
   "execution_count": 12,
   "id": "e20905b0-871e-42dd-9b18-699e05b24742",
   "metadata": {},
   "outputs": [],
   "source": [
    "def calc_move_difficulty(moves):\n",
    "    '''\n",
    "    Function takes an numpy array of moves and outputs a numpy array of difficulty scores using the MLP model\n",
    "    '''\n",
    "    X = torch.from_numpy(moves).type(torch.FloatTensor).to(device)\n",
    "    return model(X, torch.Tensor([1.]).to(device)).cpu().detach().numpy().squeeze()\n",
    "\n",
    "def calculate_accuracy(Y_pred, Y_true):\n",
    "    '''\n",
    "    Function calculates the accuracy of the predictions made by the model.\n",
    "    Y_pred is a torch tensor representing the sum of the difficulty score of all of the moves on a climb\n",
    "    Y_true is a torch tensor representing the target difficulty score of the sum of the moves on a climb\n",
    "    The output accuracies are all floats\n",
    "    '''\n",
    "\n",
    "    y_pred = get_class(Y_pred) #Convert from difficulty score to problem difficulty class\n",
    "    y_true = get_class(Y_true) #Convert from difficulty score to problem difficulty class\n",
    "\n",
    "    #Calculate the accuracy\n",
    "    acc = np.sum(y_pred == y_true)/len(y_pred) #Calculate the accuracy\n",
    "\n",
    "    #Calculate the accuracy plus or minus one\n",
    "    y_pred_p1, y_pred_m1 = y_pred + 1, y_pred - 1\n",
    "    acc_pm1 = (np.sum(y_pred == y_true) + np.sum(y_pred_p1 == y_true) + np.sum(y_pred_m1 == y_true))/len(y_pred)\n",
    "\n",
    "    #Repeat the calculations, but this time, instead of using font grades use the Heuco V grade system. \n",
    "    v_pred = convert_class_to_V_scale(y_pred)\n",
    "    v_true = convert_class_to_V_scale(y_true)\n",
    "    \n",
    "    #Calculate the accuracy of v grades\n",
    "    acc_v = np.sum(v_pred == v_true)/len(Yp)\n",
    "\n",
    "    #Calculate the accuracy of v grades plus or minus one\n",
    "    v_pred_p1, v_pred_m1 = v_pred + 1, v_pred - 1\n",
    "    acc_v_pm1 = (np.sum(v_pred == v_true) + np.sum(v_pred_p1 == v_true) + np.sum(v_pred_m1 == v_true))/len(Yp)\n",
    "    \n",
    "    return acc, acc_pm1, acc_v, acc_v_pm1\n",
    "\n",
    "\n",
    "def get_class(Y):\n",
    "    '''Define a function to go from a climb's difficulty score to its numeric class. Takes as an input a torch tensor and returns a numpy array.'''\n",
    "    return np.round(2*(np.log2(Y.cpu().detach().numpy() + 1e-20)-2)) #Addiing 1e-20 is used to avoid errors in case the a climb's difficulty ever comes up as \"0\"\n",
    "\n",
    "def convert_class_to_V_scale(Y):\n",
    "    '''In the V grades, 6C and 6C+ both correspond to a single class called V5.\n",
    "    Similarly, 7B and 7B+ both corresponds to a single class called V8. \n",
    "    Paper online report the accuracy of their predictions using V grades.\n",
    "    \n",
    "    This function returns class label corresponding to V grades instead of font scale. Takes as an input a numpy array and returns a numpy array.'''\n",
    "    V = np.zeros_like(Y)\n",
    "\n",
    "    for i in range(len(Y)):\n",
    "        if Y[i] <= 2:\n",
    "            V[i] = Y[i]\n",
    "        elif Y[i] <= 6:\n",
    "            V[i] = Y[i]-1\n",
    "        else:\n",
    "            V[i] = Y[i]-2\n",
    "\n",
    "    return V\n",
    "\n",
    "def optimize_sequences(graph_list, in_training = False):\n",
    "    '''\n",
    "    Optimizes the sequence of all the graphProblem objects specified in the input graph_list. \n",
    "\n",
    "    Then, creates a padded vectorized representations of the sequences for all the problems for rapid inference. \n",
    "    These are split into a test/train datasets with the same random state each time, so that even when regenerating the sequences the problems to which they correspond are the same.\n",
    "    '''\n",
    "    \n",
    "    longest_sequence = 0\n",
    "    for graph in graph_list:\n",
    "        graph.compute_edges(calc_move_difficulty) #Compute the edge values of each graph using the update move difficulty model\n",
    "        graph.optimize_sequence() # Then finds the optimal path to traverse it\n",
    "        if len(graph.optimal_seq) > longest_sequence:\n",
    "            longest_sequence = len(graph.optimal_seq)\n",
    "\n",
    "    #Add a print statement if this function is being called in the training loop\n",
    "    if in_training:\n",
    "        print(\"For resequence %d the longest sequence length is %d\"%(j, longest_sequence))\n",
    "\n",
    "    #Create lists of the optimal sequences, the lengths of those sequences, and the grade of the climbs\n",
    "    X = [] #Sequence\n",
    "    L = [] #Unpadded sequence length\n",
    "    Y = [] #Grade class\n",
    "    \n",
    "    for graph in graph_list:\n",
    "        sequence = graph.optimal_moves\n",
    "        L.append(len(sequence))\n",
    "        sequence = np.pad(sequence, ((0, longest_sequence-len(sequence)), (0,0)))\n",
    "        X.append(sequence)\n",
    "        Y.append(2**(2+grade_to_class[graph.problem['grade']]/2)) #Represent the target difficulty as 2**(2+class/2) (see github readme)\n",
    "\n",
    "    #Do a train test split with a fixed random state\n",
    "    X_train, X_test, Y_train, Y_test, L_train, L_test = train_test_split(np.array(X), np.array(Y), np.array(L), test_size=0.2, random_state=42)\n",
    "\n",
    "    #Cast all the numpy arrays to torch tensors on the appropriate device\n",
    "    Xt = torch.from_numpy(X_train).type(torch.FloatTensor).to(device)\n",
    "    Yt = torch.from_numpy(Y_train).type(torch.FloatTensor).to(device)\n",
    "    Lt = torch.from_numpy(L_train).type(torch.FloatTensor)\n",
    "    Mask_t = create_mask(Lt, longest_sequence).to(device)\n",
    "    \n",
    "    Xtest = torch.from_numpy(X_test).type(torch.FloatTensor).to(device)\n",
    "    Ytest = torch.from_numpy(Y_test).type(torch.FloatTensor).to(device)\n",
    "    Ltest = torch.from_numpy(L_test).type(torch.FloatTensor)\n",
    "    Mask_test = create_mask(Ltest, longest_sequence).to(device)\n",
    "\n",
    "    return Xt, Yt, Lt, Mask_t, Xtest, Ytest, Ltest, Mask_test"
   ]
  },
  {
   "cell_type": "markdown",
   "id": "7a13fba6-aadb-4b33-96c1-399aa74462f2",
   "metadata": {},
   "source": [
    "# 4b Train the Model (skip if desired)"
   ]
  },
  {
   "cell_type": "markdown",
   "id": "e7330904-03f8-4fa2-8f46-34d8aa4e0f97",
   "metadata": {},
   "source": [
    "In this section, I train the model. If desired, this section can be skipped in favor of "
   ]
  },
  {
   "cell_type": "code",
   "execution_count": 13,
   "id": "e5ba3913-a61d-4f6f-aaee-cc6848bd6f12",
   "metadata": {},
   "outputs": [],
   "source": [
    "history_list = [] #Initialize an empty list for the training history. For each resequence, have a single "
   ]
  },
  {
   "cell_type": "code",
   "execution_count": 14,
   "id": "36f6737a-57cf-4d62-93d8-3a1e692d8841",
   "metadata": {},
   "outputs": [
    {
     "name": "stdout",
     "output_type": "stream",
     "text": [
      "For resequence 0 the longest sequence length is 3\n",
      "Finished epoch 0, latest loss 512.434814453125, latest test loss 506.21197509765625\n",
      "Finished epoch 10, latest loss 283.1387634277344, latest test loss 277.93548583984375\n",
      "Finished epoch 20, latest loss 256.6481018066406, latest test loss 251.26211547851562\n",
      "Finished epoch 30, latest loss 250.65158081054688, latest test loss 245.02159118652344\n",
      "Finished epoch 40, latest loss 247.49803161621094, latest test loss 241.9044952392578\n",
      "Finished epoch 50, latest loss 246.0247802734375, latest test loss 240.58656311035156\n",
      "Finished epoch 60, latest loss 245.1953582763672, latest test loss 239.91275024414062\n",
      "Finished epoch 70, latest loss 244.62559509277344, latest test loss 239.47308349609375\n",
      "Finished epoch 80, latest loss 244.19480895996094, latest test loss 239.1424560546875\n",
      "Finished epoch 90, latest loss 243.81716918945312, latest test loss 238.85067749023438\n",
      "Finished epoch 99, latest loss 243.52493286132812, latest test loss 238.62709045410156\n",
      "For resequence 1 the longest sequence length is 4\n",
      "Finished epoch 0, latest loss 243.4453582763672, latest test loss 238.782958984375\n",
      "Finished epoch 10, latest loss 242.1931610107422, latest test loss 237.46502685546875\n",
      "Finished epoch 20, latest loss 241.53469848632812, latest test loss 236.8323974609375\n",
      "Finished epoch 30, latest loss 241.04432678222656, latest test loss 236.37081909179688\n",
      "Finished epoch 40, latest loss 240.64942932128906, latest test loss 236.0069580078125\n",
      "Finished epoch 50, latest loss 240.33786010742188, latest test loss 235.71435546875\n",
      "Finished epoch 60, latest loss 240.0721435546875, latest test loss 235.4675750732422\n",
      "Finished epoch 70, latest loss 239.84608459472656, latest test loss 235.25723266601562\n",
      "Finished epoch 80, latest loss 239.65127563476562, latest test loss 235.0765838623047\n",
      "Finished epoch 90, latest loss 239.47305297851562, latest test loss 234.90830993652344\n",
      "Finished epoch 99, latest loss 239.32382202148438, latest test loss 234.76820373535156\n",
      "For resequence 2 the longest sequence length is 5\n",
      "Finished epoch 0, latest loss 239.09625244140625, latest test loss 234.6993408203125\n",
      "Finished epoch 10, latest loss 238.7041778564453, latest test loss 234.35379028320312\n",
      "Finished epoch 20, latest loss 238.40008544921875, latest test loss 234.08970642089844\n",
      "Finished epoch 30, latest loss 238.13648986816406, latest test loss 233.8576202392578\n",
      "Finished epoch 40, latest loss 237.9105987548828, latest test loss 233.65045166015625\n",
      "Finished epoch 50, latest loss 237.70248413085938, latest test loss 233.45457458496094\n",
      "Finished epoch 60, latest loss 237.5104217529297, latest test loss 233.27084350585938\n",
      "Finished epoch 70, latest loss 237.331298828125, latest test loss 233.09857177734375\n",
      "Finished epoch 80, latest loss 237.1649932861328, latest test loss 232.93972778320312\n",
      "Finished epoch 90, latest loss 237.0070343017578, latest test loss 232.79078674316406\n",
      "Finished epoch 99, latest loss 236.87164306640625, latest test loss 232.6639404296875\n",
      "For resequence 3 the longest sequence length is 6\n",
      "Finished epoch 0, latest loss 235.7278594970703, latest test loss 231.61293029785156\n",
      "Finished epoch 10, latest loss 234.70986938476562, latest test loss 230.68898010253906\n",
      "Finished epoch 20, latest loss 234.07090759277344, latest test loss 230.1061553955078\n",
      "Finished epoch 30, latest loss 233.55616760253906, latest test loss 229.62295532226562\n",
      "Finished epoch 40, latest loss 233.13507080078125, latest test loss 229.22332763671875\n",
      "Finished epoch 50, latest loss 232.7896728515625, latest test loss 228.90281677246094\n",
      "Finished epoch 60, latest loss 232.5061798095703, latest test loss 228.64784240722656\n",
      "Finished epoch 70, latest loss 232.27197265625, latest test loss 228.4387969970703\n",
      "Finished epoch 80, latest loss 232.07115173339844, latest test loss 228.26182556152344\n",
      "Finished epoch 90, latest loss 231.89324951171875, latest test loss 228.10775756835938\n",
      "Finished epoch 99, latest loss 231.75074768066406, latest test loss 227.98574829101562\n",
      "For resequence 4 the longest sequence length is 9\n",
      "Finished epoch 0, latest loss 227.21714782714844, latest test loss 223.18914794921875\n",
      "Finished epoch 10, latest loss 224.50479125976562, latest test loss 220.38526916503906\n",
      "Finished epoch 20, latest loss 223.3560791015625, latest test loss 219.1037139892578\n",
      "Finished epoch 30, latest loss 222.6333465576172, latest test loss 218.29537963867188\n",
      "Finished epoch 40, latest loss 222.10789489746094, latest test loss 217.72113037109375\n",
      "Finished epoch 50, latest loss 221.68972778320312, latest test loss 217.2760772705078\n",
      "Finished epoch 60, latest loss 221.3356170654297, latest test loss 216.91015625\n",
      "Finished epoch 70, latest loss 221.01600646972656, latest test loss 216.59396362304688\n",
      "Finished epoch 80, latest loss 220.73170471191406, latest test loss 216.318115234375\n",
      "Finished epoch 90, latest loss 220.47113037109375, latest test loss 216.07339477539062\n",
      "Finished epoch 99, latest loss 220.24826049804688, latest test loss 215.86764526367188\n",
      "For resequence 5 the longest sequence length is 11\n",
      "Finished epoch 0, latest loss 213.10386657714844, latest test loss 208.7081756591797\n",
      "Finished epoch 10, latest loss 207.32357788085938, latest test loss 202.4867706298828\n",
      "Finished epoch 20, latest loss 205.216552734375, latest test loss 200.2639617919922\n",
      "Finished epoch 30, latest loss 203.87461853027344, latest test loss 198.93218994140625\n",
      "Finished epoch 40, latest loss 202.8804931640625, latest test loss 197.9984130859375\n",
      "Finished epoch 50, latest loss 202.09478759765625, latest test loss 197.28958129882812\n",
      "Finished epoch 60, latest loss 201.4562225341797, latest test loss 196.73133850097656\n",
      "Finished epoch 70, latest loss 200.93194580078125, latest test loss 196.27767944335938\n",
      "Finished epoch 80, latest loss 200.4864959716797, latest test loss 195.91220092773438\n",
      "Finished epoch 90, latest loss 200.0990447998047, latest test loss 195.61700439453125\n",
      "Finished epoch 99, latest loss 199.7897186279297, latest test loss 195.3904266357422\n",
      "For resequence 6 the longest sequence length is 17\n",
      "Finished epoch 0, latest loss 187.62054443359375, latest test loss 183.07765197753906\n",
      "Finished epoch 10, latest loss 180.1287078857422, latest test loss 174.7938995361328\n",
      "Finished epoch 20, latest loss 178.45306396484375, latest test loss 173.02972412109375\n",
      "Finished epoch 30, latest loss 177.5012664794922, latest test loss 172.07525634765625\n",
      "Finished epoch 40, latest loss 176.8658447265625, latest test loss 171.46331787109375\n",
      "Finished epoch 50, latest loss 176.37916564941406, latest test loss 171.00282287597656\n",
      "Finished epoch 60, latest loss 175.95433044433594, latest test loss 170.5994873046875\n",
      "Finished epoch 70, latest loss 175.59164428710938, latest test loss 170.2640838623047\n",
      "Finished epoch 80, latest loss 175.2806854248047, latest test loss 169.99085998535156\n",
      "Finished epoch 90, latest loss 174.99737548828125, latest test loss 169.75978088378906\n",
      "Finished epoch 99, latest loss 174.7703094482422, latest test loss 169.57888793945312\n",
      "For resequence 7 the longest sequence length is 17\n",
      "Finished epoch 0, latest loss 161.5181884765625, latest test loss 156.8656463623047\n",
      "Finished epoch 10, latest loss 154.2133331298828, latest test loss 149.12283325195312\n",
      "Finished epoch 20, latest loss 152.24266052246094, latest test loss 147.26048278808594\n",
      "Finished epoch 30, latest loss 150.94363403320312, latest test loss 146.09786987304688\n",
      "Finished epoch 40, latest loss 150.00881958007812, latest test loss 145.3049774169922\n",
      "Finished epoch 50, latest loss 149.2662811279297, latest test loss 144.67059326171875\n",
      "Finished epoch 60, latest loss 148.6272735595703, latest test loss 144.1387176513672\n",
      "Finished epoch 70, latest loss 148.08563232421875, latest test loss 143.68807983398438\n",
      "Finished epoch 80, latest loss 147.58995056152344, latest test loss 143.2688751220703\n",
      "Finished epoch 90, latest loss 147.14967346191406, latest test loss 142.89280700683594\n",
      "Finished epoch 99, latest loss 146.77493286132812, latest test loss 142.57847595214844\n",
      "For resequence 8 the longest sequence length is 17\n",
      "Finished epoch 0, latest loss 141.75418090820312, latest test loss 137.30422973632812\n",
      "Finished epoch 10, latest loss 139.03749084472656, latest test loss 134.57810974121094\n",
      "Finished epoch 20, latest loss 137.7200927734375, latest test loss 133.3765869140625\n",
      "Finished epoch 30, latest loss 136.7628173828125, latest test loss 132.55471801757812\n",
      "Finished epoch 40, latest loss 135.9973907470703, latest test loss 131.92947387695312\n",
      "Finished epoch 50, latest loss 135.34869384765625, latest test loss 131.4278106689453\n",
      "Finished epoch 60, latest loss 134.73907470703125, latest test loss 130.97238159179688\n",
      "Finished epoch 70, latest loss 134.20448303222656, latest test loss 130.56414794921875\n",
      "Finished epoch 80, latest loss 133.716796875, latest test loss 130.19747924804688\n",
      "Finished epoch 90, latest loss 133.26141357421875, latest test loss 129.8549041748047\n",
      "Finished epoch 99, latest loss 132.88140869140625, latest test loss 129.56552124023438\n",
      "For resequence 9 the longest sequence length is 17\n",
      "Finished epoch 0, latest loss 132.56893920898438, latest test loss 128.93942260742188\n",
      "Finished epoch 10, latest loss 131.61000061035156, latest test loss 128.1470184326172\n",
      "Finished epoch 20, latest loss 131.03488159179688, latest test loss 127.7359619140625\n",
      "Finished epoch 30, latest loss 130.5506134033203, latest test loss 127.38175964355469\n",
      "Finished epoch 40, latest loss 130.14109802246094, latest test loss 127.0700912475586\n",
      "Finished epoch 50, latest loss 129.76321411132812, latest test loss 126.77454376220703\n",
      "Finished epoch 60, latest loss 129.4142608642578, latest test loss 126.51134490966797\n",
      "Finished epoch 70, latest loss 129.0863037109375, latest test loss 126.27428436279297\n",
      "Finished epoch 80, latest loss 128.7705841064453, latest test loss 126.04237365722656\n",
      "Finished epoch 90, latest loss 128.4879608154297, latest test loss 125.83740997314453\n",
      "Finished epoch 99, latest loss 128.2335968017578, latest test loss 125.64802551269531\n",
      "For resequence 10 the longest sequence length is 17\n",
      "Finished epoch 0, latest loss 128.12205505371094, latest test loss 125.26348876953125\n",
      "Finished epoch 10, latest loss 127.70667266845703, latest test loss 124.86197662353516\n",
      "Finished epoch 20, latest loss 127.36314392089844, latest test loss 124.58792877197266\n",
      "Finished epoch 30, latest loss 127.0661392211914, latest test loss 124.34500885009766\n",
      "Finished epoch 40, latest loss 126.77798461914062, latest test loss 124.11600494384766\n",
      "Finished epoch 50, latest loss 126.52206420898438, latest test loss 123.92152404785156\n",
      "Finished epoch 60, latest loss 126.29351806640625, latest test loss 123.76136779785156\n",
      "Finished epoch 70, latest loss 126.08332061767578, latest test loss 123.62582397460938\n",
      "Finished epoch 80, latest loss 125.891357421875, latest test loss 123.50325775146484\n",
      "Finished epoch 90, latest loss 125.71355438232422, latest test loss 123.39877319335938\n",
      "Finished epoch 99, latest loss 125.58421325683594, latest test loss 123.33087158203125\n",
      "For resequence 11 the longest sequence length is 18\n",
      "Finished epoch 0, latest loss 125.54072570800781, latest test loss 123.26490020751953\n",
      "Finished epoch 10, latest loss 125.28221130371094, latest test loss 123.03583526611328\n",
      "Finished epoch 20, latest loss 125.09571075439453, latest test loss 122.92229461669922\n",
      "Finished epoch 30, latest loss 124.92654418945312, latest test loss 122.8170166015625\n",
      "Finished epoch 40, latest loss 124.7721176147461, latest test loss 122.71961975097656\n",
      "Finished epoch 50, latest loss 124.63431549072266, latest test loss 122.6366958618164\n",
      "Finished epoch 60, latest loss 124.4906997680664, latest test loss 122.5576171875\n",
      "Finished epoch 70, latest loss 124.3831787109375, latest test loss 122.50298309326172\n",
      "Finished epoch 80, latest loss 124.2729263305664, latest test loss 122.4552001953125\n",
      "Finished epoch 90, latest loss 124.16820526123047, latest test loss 122.40811157226562\n",
      "Finished epoch 99, latest loss 124.07611083984375, latest test loss 122.36515045166016\n",
      "For resequence 12 the longest sequence length is 17\n",
      "Finished epoch 0, latest loss 124.06302642822266, latest test loss 122.20280456542969\n",
      "Finished epoch 10, latest loss 123.89875793457031, latest test loss 122.06143188476562\n",
      "Finished epoch 20, latest loss 123.75945281982422, latest test loss 121.9700698852539\n",
      "Finished epoch 30, latest loss 123.62740325927734, latest test loss 121.88534545898438\n",
      "Finished epoch 40, latest loss 123.5118408203125, latest test loss 121.80950927734375\n",
      "Finished epoch 50, latest loss 123.41130828857422, latest test loss 121.74934387207031\n",
      "Finished epoch 60, latest loss 123.30805969238281, latest test loss 121.69430541992188\n",
      "Finished epoch 70, latest loss 123.2098388671875, latest test loss 121.65174102783203\n",
      "Finished epoch 80, latest loss 123.11243438720703, latest test loss 121.606201171875\n",
      "Finished epoch 90, latest loss 123.01885986328125, latest test loss 121.5650405883789\n",
      "Finished epoch 99, latest loss 122.94225311279297, latest test loss 121.52861785888672\n",
      "For resequence 13 the longest sequence length is 17\n",
      "Finished epoch 0, latest loss 122.9510269165039, latest test loss 121.43309783935547\n",
      "Finished epoch 10, latest loss 122.81246185302734, latest test loss 121.29654693603516\n",
      "Finished epoch 20, latest loss 122.68655395507812, latest test loss 121.21080780029297\n",
      "Finished epoch 30, latest loss 122.5782699584961, latest test loss 121.14374542236328\n",
      "Finished epoch 40, latest loss 122.48668670654297, latest test loss 121.09016418457031\n",
      "Finished epoch 50, latest loss 122.38285064697266, latest test loss 121.0234375\n",
      "Finished epoch 60, latest loss 122.27677917480469, latest test loss 120.95425415039062\n",
      "Finished epoch 70, latest loss 122.1839828491211, latest test loss 120.89456176757812\n",
      "Finished epoch 80, latest loss 122.11109161376953, latest test loss 120.85082244873047\n",
      "Finished epoch 90, latest loss 122.03294372558594, latest test loss 120.81135559082031\n",
      "Finished epoch 99, latest loss 121.97286224365234, latest test loss 120.78482818603516\n",
      "For resequence 14 the longest sequence length is 17\n",
      "Finished epoch 0, latest loss 121.97517395019531, latest test loss 120.68547058105469\n",
      "Finished epoch 10, latest loss 121.85755157470703, latest test loss 120.62188720703125\n",
      "Finished epoch 20, latest loss 121.75434112548828, latest test loss 120.56990814208984\n",
      "Finished epoch 30, latest loss 121.6745834350586, latest test loss 120.5412826538086\n",
      "Finished epoch 40, latest loss 121.59465789794922, latest test loss 120.5060806274414\n",
      "Finished epoch 50, latest loss 121.51742553710938, latest test loss 120.47541809082031\n",
      "Finished epoch 60, latest loss 121.4471206665039, latest test loss 120.44572448730469\n",
      "Finished epoch 70, latest loss 121.38677978515625, latest test loss 120.42532348632812\n",
      "Finished epoch 80, latest loss 121.32416534423828, latest test loss 120.40516662597656\n",
      "Finished epoch 90, latest loss 121.2652816772461, latest test loss 120.38355255126953\n",
      "Finished epoch 99, latest loss 121.21190643310547, latest test loss 120.36235046386719\n",
      "For resequence 15 the longest sequence length is 16\n",
      "Finished epoch 0, latest loss 121.24726104736328, latest test loss 120.23955535888672\n",
      "Finished epoch 10, latest loss 121.08503723144531, latest test loss 120.14289855957031\n",
      "Finished epoch 20, latest loss 120.99242401123047, latest test loss 120.100830078125\n",
      "Finished epoch 30, latest loss 120.92620849609375, latest test loss 120.0696792602539\n",
      "Finished epoch 40, latest loss 120.85218811035156, latest test loss 120.0316162109375\n",
      "Finished epoch 50, latest loss 120.78866577148438, latest test loss 119.99516296386719\n",
      "Finished epoch 60, latest loss 120.7257308959961, latest test loss 119.96114349365234\n",
      "Finished epoch 70, latest loss 120.6734619140625, latest test loss 119.93905639648438\n",
      "Finished epoch 80, latest loss 120.61701965332031, latest test loss 119.91344451904297\n",
      "Finished epoch 90, latest loss 120.56867218017578, latest test loss 119.88817596435547\n",
      "Finished epoch 99, latest loss 120.52906799316406, latest test loss 119.86571502685547\n",
      "For resequence 16 the longest sequence length is 16\n",
      "Finished epoch 0, latest loss 120.76557922363281, latest test loss 119.8509292602539\n",
      "Finished epoch 10, latest loss 120.6441879272461, latest test loss 119.78388977050781\n",
      "Finished epoch 20, latest loss 120.55736541748047, latest test loss 119.74922943115234\n",
      "Finished epoch 30, latest loss 120.4775390625, latest test loss 119.71766662597656\n",
      "Finished epoch 40, latest loss 120.42608642578125, latest test loss 119.70462799072266\n",
      "Finished epoch 50, latest loss 120.37220001220703, latest test loss 119.69011688232422\n",
      "Finished epoch 60, latest loss 120.32274627685547, latest test loss 119.67424011230469\n",
      "Finished epoch 70, latest loss 120.27251434326172, latest test loss 119.65870666503906\n",
      "Finished epoch 80, latest loss 120.21797943115234, latest test loss 119.64176940917969\n",
      "Finished epoch 90, latest loss 120.16903686523438, latest test loss 119.63036346435547\n",
      "Finished epoch 99, latest loss 120.12702178955078, latest test loss 119.62248229980469\n",
      "For resequence 17 the longest sequence length is 16\n",
      "Finished epoch 0, latest loss 120.16566467285156, latest test loss 119.55473327636719\n",
      "Finished epoch 10, latest loss 120.08859252929688, latest test loss 119.52347564697266\n",
      "Finished epoch 20, latest loss 120.03103637695312, latest test loss 119.50528717041016\n",
      "Finished epoch 30, latest loss 119.9857406616211, latest test loss 119.49494934082031\n",
      "Finished epoch 40, latest loss 119.9415512084961, latest test loss 119.48088073730469\n",
      "Finished epoch 50, latest loss 119.89566802978516, latest test loss 119.4643783569336\n",
      "Finished epoch 60, latest loss 119.84929656982422, latest test loss 119.44625091552734\n",
      "Finished epoch 70, latest loss 119.80370330810547, latest test loss 119.42827606201172\n",
      "Finished epoch 80, latest loss 119.76244354248047, latest test loss 119.41026306152344\n",
      "Finished epoch 90, latest loss 119.72024536132812, latest test loss 119.39034271240234\n",
      "Finished epoch 99, latest loss 119.67615509033203, latest test loss 119.3701171875\n",
      "For resequence 18 the longest sequence length is 16\n",
      "Finished epoch 0, latest loss 119.82648468017578, latest test loss 119.4256362915039\n",
      "Finished epoch 10, latest loss 119.68667602539062, latest test loss 119.41022491455078\n",
      "Finished epoch 20, latest loss 119.58740997314453, latest test loss 119.38670349121094\n",
      "Finished epoch 30, latest loss 119.50269317626953, latest test loss 119.36552429199219\n",
      "Finished epoch 40, latest loss 119.43820190429688, latest test loss 119.35211181640625\n",
      "Finished epoch 50, latest loss 119.37588500976562, latest test loss 119.33527374267578\n",
      "Finished epoch 60, latest loss 119.31649017333984, latest test loss 119.3253402709961\n",
      "Finished epoch 70, latest loss 119.25536346435547, latest test loss 119.3102798461914\n",
      "Finished epoch 80, latest loss 119.19884490966797, latest test loss 119.29662322998047\n",
      "Finished epoch 90, latest loss 119.1573486328125, latest test loss 119.29093933105469\n",
      "Finished epoch 99, latest loss 119.11455535888672, latest test loss 119.2790298461914\n",
      "For resequence 19 the longest sequence length is 16\n",
      "Finished epoch 0, latest loss 119.21170806884766, latest test loss 119.09101867675781\n",
      "Finished epoch 10, latest loss 119.10460662841797, latest test loss 119.05396270751953\n",
      "Finished epoch 20, latest loss 119.02418518066406, latest test loss 119.02178955078125\n",
      "Finished epoch 30, latest loss 118.95806884765625, latest test loss 118.9958267211914\n",
      "Finished epoch 40, latest loss 118.89783477783203, latest test loss 118.97738647460938\n",
      "Finished epoch 50, latest loss 118.84876251220703, latest test loss 118.96390533447266\n",
      "Finished epoch 60, latest loss 118.78832244873047, latest test loss 118.94225311279297\n",
      "Finished epoch 70, latest loss 118.74067687988281, latest test loss 118.92857360839844\n",
      "Finished epoch 80, latest loss 118.6886978149414, latest test loss 118.9158706665039\n",
      "Finished epoch 90, latest loss 118.63611602783203, latest test loss 118.9025650024414\n",
      "Finished epoch 99, latest loss 118.59590911865234, latest test loss 118.89444732666016\n",
      "For resequence 20 the longest sequence length is 16\n",
      "Finished epoch 0, latest loss 118.75228118896484, latest test loss 118.99150848388672\n",
      "Finished epoch 10, latest loss 118.64057159423828, latest test loss 119.00212097167969\n",
      "Finished epoch 20, latest loss 118.55908203125, latest test loss 118.9936294555664\n",
      "Finished epoch 30, latest loss 118.50096130371094, latest test loss 118.99828338623047\n",
      "Finished epoch 40, latest loss 118.436279296875, latest test loss 118.99272155761719\n",
      "Finished epoch 50, latest loss 118.3867416381836, latest test loss 118.99283599853516\n",
      "Finished epoch 60, latest loss 118.34423828125, latest test loss 118.99591064453125\n",
      "Finished epoch 70, latest loss 118.29412841796875, latest test loss 118.98922729492188\n",
      "Finished epoch 80, latest loss 118.2568588256836, latest test loss 118.99089813232422\n",
      "Finished epoch 90, latest loss 118.20638275146484, latest test loss 118.98121643066406\n",
      "Finished epoch 99, latest loss 118.16360473632812, latest test loss 118.97270202636719\n",
      "For resequence 21 the longest sequence length is 15\n",
      "Finished epoch 0, latest loss 118.38418579101562, latest test loss 118.8803482055664\n",
      "Finished epoch 10, latest loss 118.29407501220703, latest test loss 118.87946319580078\n",
      "Finished epoch 20, latest loss 118.22657012939453, latest test loss 118.87137603759766\n",
      "Finished epoch 30, latest loss 118.16307067871094, latest test loss 118.86286163330078\n",
      "Finished epoch 40, latest loss 118.11128997802734, latest test loss 118.85224151611328\n",
      "Finished epoch 50, latest loss 118.06267547607422, latest test loss 118.84400939941406\n",
      "Finished epoch 60, latest loss 118.01777648925781, latest test loss 118.83531188964844\n",
      "Finished epoch 70, latest loss 117.96953582763672, latest test loss 118.82177734375\n",
      "Finished epoch 80, latest loss 117.93241882324219, latest test loss 118.8166275024414\n",
      "Finished epoch 90, latest loss 117.89242553710938, latest test loss 118.81068420410156\n",
      "Finished epoch 99, latest loss 117.8509292602539, latest test loss 118.80140686035156\n",
      "For resequence 22 the longest sequence length is 16\n",
      "Finished epoch 0, latest loss 118.05467224121094, latest test loss 118.82122802734375\n",
      "Finished epoch 10, latest loss 117.96546936035156, latest test loss 118.81632995605469\n",
      "Finished epoch 20, latest loss 117.88741302490234, latest test loss 118.80020141601562\n",
      "Finished epoch 30, latest loss 117.81619262695312, latest test loss 118.785400390625\n",
      "Finished epoch 40, latest loss 117.75516510009766, latest test loss 118.77371215820312\n",
      "Finished epoch 50, latest loss 117.70171356201172, latest test loss 118.7606430053711\n",
      "Finished epoch 60, latest loss 117.65211486816406, latest test loss 118.74861907958984\n",
      "Finished epoch 70, latest loss 117.61215209960938, latest test loss 118.74254608154297\n",
      "Finished epoch 80, latest loss 117.57279968261719, latest test loss 118.73600006103516\n",
      "Finished epoch 90, latest loss 117.53694915771484, latest test loss 118.7328872680664\n",
      "Finished epoch 99, latest loss 117.50572204589844, latest test loss 118.72716522216797\n",
      "For resequence 23 the longest sequence length is 15\n",
      "Finished epoch 0, latest loss 117.69744873046875, latest test loss 118.68305969238281\n",
      "Finished epoch 10, latest loss 117.60163879394531, latest test loss 118.69609069824219\n",
      "Finished epoch 20, latest loss 117.53083038330078, latest test loss 118.6946792602539\n",
      "Finished epoch 30, latest loss 117.4836196899414, latest test loss 118.69156646728516\n",
      "Finished epoch 40, latest loss 117.4386215209961, latest test loss 118.68976593017578\n",
      "Finished epoch 50, latest loss 117.39559173583984, latest test loss 118.68514251708984\n",
      "Finished epoch 60, latest loss 117.36343383789062, latest test loss 118.6857681274414\n",
      "Finished epoch 70, latest loss 117.3277587890625, latest test loss 118.68206787109375\n",
      "Finished epoch 80, latest loss 117.30724334716797, latest test loss 118.69294738769531\n",
      "Finished epoch 90, latest loss 117.27242279052734, latest test loss 118.69310760498047\n",
      "Finished epoch 99, latest loss 117.23394775390625, latest test loss 118.68631744384766\n",
      "For resequence 24 the longest sequence length is 16\n",
      "Finished epoch 0, latest loss 117.39476013183594, latest test loss 118.6401596069336\n",
      "Finished epoch 10, latest loss 117.28836822509766, latest test loss 118.65080261230469\n",
      "Finished epoch 20, latest loss 117.21046447753906, latest test loss 118.64545440673828\n",
      "Finished epoch 30, latest loss 117.15701293945312, latest test loss 118.64539337158203\n",
      "Finished epoch 40, latest loss 117.11016845703125, latest test loss 118.6492691040039\n",
      "Finished epoch 50, latest loss 117.06751251220703, latest test loss 118.64836120605469\n",
      "Finished epoch 60, latest loss 117.02110290527344, latest test loss 118.64277648925781\n",
      "Finished epoch 70, latest loss 116.9811782836914, latest test loss 118.6409683227539\n",
      "Finished epoch 80, latest loss 116.94071960449219, latest test loss 118.64059448242188\n",
      "Finished epoch 90, latest loss 116.90415954589844, latest test loss 118.63778686523438\n",
      "Finished epoch 99, latest loss 116.8656234741211, latest test loss 118.62621307373047\n",
      "For resequence 25 the longest sequence length is 16\n",
      "Finished epoch 0, latest loss 117.0318832397461, latest test loss 118.50437927246094\n",
      "Finished epoch 10, latest loss 116.9026870727539, latest test loss 118.54216766357422\n",
      "Finished epoch 20, latest loss 116.84542083740234, latest test loss 118.57654571533203\n",
      "Finished epoch 30, latest loss 116.8038101196289, latest test loss 118.59381103515625\n",
      "Finished epoch 40, latest loss 116.76132202148438, latest test loss 118.60157775878906\n",
      "Finished epoch 50, latest loss 116.73454284667969, latest test loss 118.6135482788086\n",
      "Finished epoch 60, latest loss 116.70460510253906, latest test loss 118.61892700195312\n",
      "Finished epoch 70, latest loss 116.67239379882812, latest test loss 118.61827850341797\n",
      "Finished epoch 80, latest loss 116.65140533447266, latest test loss 118.6229476928711\n",
      "Finished epoch 90, latest loss 116.62588500976562, latest test loss 118.62639617919922\n",
      "Finished epoch 99, latest loss 116.60645294189453, latest test loss 118.63275146484375\n",
      "For resequence 26 the longest sequence length is 16\n",
      "Finished epoch 0, latest loss 116.8261489868164, latest test loss 118.59481048583984\n",
      "Finished epoch 10, latest loss 116.69625091552734, latest test loss 118.61051940917969\n",
      "Finished epoch 20, latest loss 116.62372589111328, latest test loss 118.59735107421875\n",
      "Finished epoch 30, latest loss 116.57848358154297, latest test loss 118.59174346923828\n",
      "Finished epoch 40, latest loss 116.53742218017578, latest test loss 118.58900451660156\n",
      "Finished epoch 50, latest loss 116.48753356933594, latest test loss 118.57598876953125\n",
      "Finished epoch 60, latest loss 116.44208526611328, latest test loss 118.56582641601562\n",
      "Finished epoch 70, latest loss 116.41230773925781, latest test loss 118.56330108642578\n",
      "Finished epoch 80, latest loss 116.3836898803711, latest test loss 118.5628662109375\n",
      "Finished epoch 90, latest loss 116.35985565185547, latest test loss 118.56414794921875\n",
      "Finished epoch 99, latest loss 116.3302993774414, latest test loss 118.55819702148438\n",
      "For resequence 27 the longest sequence length is 16\n",
      "Finished epoch 0, latest loss 116.59052276611328, latest test loss 118.34506225585938\n",
      "Finished epoch 10, latest loss 116.49573516845703, latest test loss 118.38716888427734\n",
      "Finished epoch 20, latest loss 116.43277740478516, latest test loss 118.4079818725586\n",
      "Finished epoch 30, latest loss 116.39768981933594, latest test loss 118.42431640625\n",
      "Finished epoch 40, latest loss 116.35185241699219, latest test loss 118.42194366455078\n",
      "Finished epoch 50, latest loss 116.31602478027344, latest test loss 118.422119140625\n",
      "Finished epoch 60, latest loss 116.27735900878906, latest test loss 118.42050170898438\n",
      "Finished epoch 70, latest loss 116.24604797363281, latest test loss 118.41975402832031\n",
      "Finished epoch 80, latest loss 116.21717071533203, latest test loss 118.42308044433594\n",
      "Finished epoch 90, latest loss 116.19029235839844, latest test loss 118.42506408691406\n",
      "Finished epoch 99, latest loss 116.16114807128906, latest test loss 118.42040252685547\n",
      "For resequence 28 the longest sequence length is 16\n",
      "Finished epoch 0, latest loss 116.47445678710938, latest test loss 118.48186492919922\n",
      "Finished epoch 10, latest loss 116.26065826416016, latest test loss 118.43824768066406\n",
      "Finished epoch 20, latest loss 116.19267272949219, latest test loss 118.42805480957031\n",
      "Finished epoch 30, latest loss 116.13594818115234, latest test loss 118.419189453125\n",
      "Finished epoch 40, latest loss 116.0942153930664, latest test loss 118.4114990234375\n",
      "Finished epoch 50, latest loss 116.04584503173828, latest test loss 118.4009017944336\n",
      "Finished epoch 60, latest loss 115.99590301513672, latest test loss 118.38656616210938\n",
      "Finished epoch 70, latest loss 115.96847534179688, latest test loss 118.38402557373047\n",
      "Finished epoch 80, latest loss 115.94786834716797, latest test loss 118.38797760009766\n",
      "Finished epoch 90, latest loss 115.91836547851562, latest test loss 118.38510131835938\n",
      "Finished epoch 99, latest loss 115.89112091064453, latest test loss 118.37824249267578\n",
      "For resequence 29 the longest sequence length is 16\n",
      "Finished epoch 0, latest loss 116.1964111328125, latest test loss 118.31751251220703\n",
      "Finished epoch 10, latest loss 116.09221649169922, latest test loss 118.36223602294922\n",
      "Finished epoch 20, latest loss 116.04019165039062, latest test loss 118.36859130859375\n",
      "Finished epoch 30, latest loss 115.99703216552734, latest test loss 118.37480163574219\n",
      "Finished epoch 40, latest loss 115.97282409667969, latest test loss 118.38642120361328\n",
      "Finished epoch 50, latest loss 115.93787384033203, latest test loss 118.38128662109375\n",
      "Finished epoch 60, latest loss 115.90082550048828, latest test loss 118.37322998046875\n",
      "Finished epoch 70, latest loss 115.87295532226562, latest test loss 118.37348937988281\n",
      "Finished epoch 80, latest loss 115.84408569335938, latest test loss 118.37124633789062\n",
      "Finished epoch 90, latest loss 115.82319641113281, latest test loss 118.37352752685547\n",
      "Finished epoch 99, latest loss 115.79778289794922, latest test loss 118.36581420898438\n",
      "Done!\n"
     ]
    }
   ],
   "source": [
    "for j in range(n_resequence):\n",
    "    \n",
    "    # Calculate the optimal sequences for all the problems and create a padded vectorized representations for rapid inference\n",
    "    Xt, Yt, Lt, Mask_t, Xtest, Ytest, Ltest, Mask_test = optimize_sequences(graph_list, in_training = True)\n",
    "\n",
    "    #Create a new empty history dictionary for this resequencing iteration\n",
    "    history = {'loss': np.zeros(n_epochs), \n",
    "               'train accuracy': np.zeros(n_epochs),\n",
    "               'train accuracy pm1': np.zeros(n_epochs),\n",
    "               'train accuracy v': np.zeros(n_epochs),\n",
    "               'train accuracy v pm1': np.zeros(n_epochs),\n",
    "               'test loss': np.zeros(n_epochs), \n",
    "               'test accuracy': np.zeros(n_epochs), \n",
    "               'test accuracy pm1': np.zeros(n_epochs),\n",
    "               'test accuracy v': np.zeros(n_epochs),\n",
    "               'test accuracy v pm1': np.zeros(n_epochs)}\n",
    "\n",
    "    #For n_epochs\n",
    "    for epoch in range(n_epochs):\n",
    "        #Go through the entire dataset with the appropriate batch size\n",
    "        for i in range(0, len(Y)//batch_size):\n",
    "            Yp = torch.sum(model(Xt[i*batch_size:(i+1)*batch_size], Mask_t[i*batch_size:(i+1)*batch_size]).squeeze(), axis = 1)\n",
    "            loss = loss_fn(Yp, Yt[i*batch_size:(i+1)*batch_size]).mean()\n",
    "            optimizer.zero_grad()\n",
    "            loss.backward()\n",
    "            optimizer.step()\n",
    "\n",
    "        #Evaluate the loss and accuracry on the training data and add it this to the history\n",
    "        Yp = torch.sum(model(Xt, Mask_t).squeeze(), axis = 1)\n",
    "        \n",
    "        loss = loss_fn(Yp, Yt).cpu().detach()\n",
    "        history['loss'][epoch] = loss\n",
    "        acc, acc_pm1, acc_v, acc_v_pm1 = calculate_accuracy(Yp, Yt)\n",
    "        \n",
    "        history['train accuracy'][epoch], history['train accuracy pm1'][epoch] = acc, acc_pm1\n",
    "        history['train accuracy v'][epoch], history['train accuracy v pm1'][epoch] = acc_v, acc_v_pm1\n",
    "\n",
    "        #Evaluate the loss and accuracry on the test data and add it this to the history\n",
    "        Yp = torch.sum(model(Xtest, Mask_test).squeeze(), axis = 1)\n",
    "\n",
    "        test_loss = loss_fn(Yp, Ytest).cpu().detach()\n",
    "        history['test loss'][epoch] = test_loss\n",
    "        \n",
    "        acc, acc_pm1, acc_v, acc_v_pm1 = calculate_accuracy(Yp, Ytest)\n",
    "        history['test accuracy'][epoch], history['test accuracy pm1'][epoch] = acc, acc_pm1\n",
    "        history['test accuracy v'][epoch], history['test accuracy v pm1'][epoch] = acc_v, acc_v_pm1\n",
    "        \n",
    "        if epoch%10 == 0:\n",
    "            print(f'Finished epoch {epoch}, latest loss {loss}, latest test loss {test_loss}')\n",
    "    \n",
    "    print(f'Finished epoch {epoch}, latest loss {loss}, latest test loss {test_loss}')\n",
    "\n",
    "    history_list += [history]\n",
    "\n",
    "#Optimize the sequences one last time with the final model\n",
    "Xt, Yt, Lt, Mask_t, Xtest, Ytest, Ltest, Mask_test = optimize_sequences(graph_list)\n",
    "\n",
    "print(\"Done!\")"
   ]
  },
  {
   "cell_type": "code",
   "execution_count": 40,
   "id": "452a5ef5-b079-40c2-b72e-5a3647bf1e35",
   "metadata": {},
   "outputs": [],
   "source": [
    "#Save the model for future inference use\n",
    "torch.save(model.state_dict(), \"saved_model.pt\")"
   ]
  },
  {
   "cell_type": "markdown",
   "id": "d2fa2ab8-77fc-472c-a86f-92440136ad61",
   "metadata": {},
   "source": [
    "# 5. Plot Convergence Properties"
   ]
  },
  {
   "cell_type": "markdown",
   "id": "f008f9e2-8ac1-4ee7-acee-a1080bfb4569",
   "metadata": {},
   "source": [
    "Here I plot the convergence properties of training. We see that as the model for what makes a move difficult is updated, the redetermining the optimal sequences leads to qualitative changes in the convergence properties of the loss and accuracy metrics."
   ]
  },
  {
   "cell_type": "code",
   "execution_count": 41,
   "id": "d587c9cf-102d-4aff-adb9-2dc3aab28570",
   "metadata": {},
   "outputs": [],
   "source": [
    "#Create numpy arrays of the resequencing index and the loss/accuracies at the end of each resequencing run \n",
    "reseq = np.arange(len(history_list))\n",
    "loss_test, loss_train, acc_test, acc_test_pm1, acc_train, acc_train_pm1 = np.zeros(len(reseq)), np.zeros(len(reseq)), np.zeros(len(reseq)), np.zeros(len(reseq)), np.zeros(len(reseq)), np.zeros(len(reseq)) \n",
    "\n",
    "for i in range(len(history_list)):\n",
    "    hist = history_list[i]\n",
    "    loss_train[i] = hist['loss'][-1]\n",
    "    loss_test[i] = hist['test loss'][-1]\n",
    "    acc_test[i] = hist['test accuracy v'][-1]\n",
    "    acc_test_pm1[i] = hist['test accuracy v pm1'][-1]\n",
    "    acc_train[i] = hist['train accuracy v'][-1]\n",
    "    acc_train_pm1[i] = hist['train accuracy v pm1'][-1]"
   ]
  },
  {
   "cell_type": "code",
   "execution_count": 56,
   "id": "b8fe6e94-20e1-49a7-ad9c-82e33c5326b1",
   "metadata": {},
   "outputs": [
    {
     "data": {
      "image/png": "[encoded data removed]",
      "text/plain": [
       "<Figure size 600x1000 with 3 Axes>"
      ]
     },
     "metadata": {},
     "output_type": "display_data"
    }
   ],
   "source": [
    "plt.figure(figsize=(6,10))\n",
    "\n",
    "plt1, plt2, plt3 = plt.subplot(311), plt.subplot(312), plt.subplot(313)\n",
    "\n",
    "plt1.plot(reseq, loss_train)\n",
    "plt1.plot(reseq, loss_test)\n",
    "plt1.set_xlabel(\"Resequence Number\")\n",
    "plt1.set_ylabel(\"Loss\")\n",
    "\n",
    "plt2.plot(reseq, acc_train)\n",
    "plt2.plot(reseq, acc_test)\n",
    "plt2.set_xlabel(\"Resequence Number\")\n",
    "plt2.set_ylabel(\"V Grade Accuracy\")\n",
    "\n",
    "plt3.plot(reseq, acc_train_pm1)\n",
    "plt3.plot(reseq, acc_test_pm1)\n",
    "plt3.set_xlabel(\"Resequence Number\")\n",
    "plt3.set_ylabel(\"V Grade Accuracy $\\pm$ 1\")\n",
    "\n",
    "plt.show()"
   ]
  },
  {
   "cell_type": "markdown",
   "id": "09b3a685-7aba-4a00-821b-42ab22686f0b",
   "metadata": {},
   "source": [
    "# 6. Evaluating Determined Sequences"
   ]
  },
  {
   "cell_type": "markdown",
   "id": "a5e6bb4f-3a87-4c51-94a2-aafd7d8d0522",
   "metadata": {},
   "source": [
    "Here I show some of the predicted optimal sequences for a handful of climbs. The outputs shown are a list of arrays with 4 elements. The first two correspond to the x and y position of the left hand hold, and the last two correspond to the x and y position of the right hand. \n",
    "\n",
    "For example, the consider following sequence with two positions: [[ 0  4  3  5], [ 0  8  3  5]]. The first position corresponds to having your left hand on the hold at (x=0, y=4) and right hand on the hold at (x=3, y=5). The first position corresponds to having your left hand on the hold at (x=0, y=8) and right hand on the hold at (x=3, y=5). So, overall, from the first position to the second you have moved your left hand from (x=0, y=4) to (x=0, y=8). Sequences are represented this way until both hands are on the finish hold(s). Note that the position in this notebook are zero indexed. In the linked pictures of problems, the y position is one indexed and the x position is given a letter instead of a number. A mental conversion needs to be applied for the two to correspond.\n",
    "\n",
    "Overall,the predicted sequences are very reasonable for a range of problems of varying difficulties! The algorith learned that the smaller moves are optimal, and that in most situations alternating between left and right hand movements is best. Furthermore, it even manages to learn that sometimes, you want to do several left hand or right hand moves in a row in certain situations."
   ]
  },
  {
   "cell_type": "code",
   "execution_count": null,
   "id": "ab7003b1-4057-420c-91e6-b7181c91149a",
   "metadata": {},
   "outputs": [],
   "source": [
    "# # If not retraining the model from scratch, load the saved model and recompute the optimal sequences.\n",
    "\n",
    "# model.load_state_dict(torch.load(\"saved_model.pt\"))\n",
    "# model.eval()\n",
    "\n",
    "# #Calculate the optimal sequences for all the problems and create a padded vectorized representations for rapid inference\n",
    "# Xt, Yt, Lt, Mask_t, Xtest, Ytest, Ltest, Mask_test = optimize_sequences(graph_list)"
   ]
  },
  {
   "cell_type": "code",
   "execution_count": 29,
   "id": "18264028-958d-4cbc-ab9a-08a3f240daa5",
   "metadata": {},
   "outputs": [
    {
     "name": "stdout",
     "output_type": "stream",
     "text": [
      "Problem font grade:  6C\n",
      "Link to picture of problem:  https://moonboard.com/Problems/View/367892/cats-are-furry-children\n",
      "Predicted optimal sequence: \n",
      " [[ 0  4  3  5]\n",
      " [ 0  8  3  5]\n",
      " [ 0  8  4  8]\n",
      " [ 2 12  4  8]\n",
      " [ 2 12  3 14]\n",
      " [ 0 17  3 14]\n",
      " [ 0 17  0 17]]\n"
     ]
    }
   ],
   "source": [
    "#Predicts a reasonable classic LH RH alternating sequence\n",
    "problem_index = 0\n",
    "print(\"Problem font grade: \", graph_list[problem_index].problem['grade'])\n",
    "print(\"Link to picture of problem: \", graph_list[problem_index].problem['url'])\n",
    "print(\"Predicted optimal sequence: \\n\", graph_list[problem_index].optimal_seq)"
   ]
  },
  {
   "cell_type": "code",
   "execution_count": 30,
   "id": "476fad89-4c8e-424b-962b-0f3e097b6a9b",
   "metadata": {},
   "outputs": [
    {
     "name": "stdout",
     "output_type": "stream",
     "text": [
      "Problem font grade:  6C\n",
      "Link to picture of problem:  https://moonboard.com/Problems/View/314508/bz-hyperion\n",
      "Predicted optimal sequence: \n",
      " [[10  4 10  4]\n",
      " [ 9  7 10  4]\n",
      " [ 9  7  8 10]\n",
      " [ 4 10  8 10]\n",
      " [ 4 10  3 11]\n",
      " [ 2 13  3 11]\n",
      " [ 1 15  3 11]\n",
      " [ 1 15  4 17]\n",
      " [ 4 17  4 17]]\n"
     ]
    }
   ],
   "source": [
    "#Predicts a reasonable sequence, where it does two realistic left hand moves in a row.\n",
    "problem_index = 25164\n",
    "print(\"Problem font grade: \", graph_list[problem_index].problem['grade'])\n",
    "print(\"Link to picture of problem: \", graph_list[problem_index].problem['url'])\n",
    "print(\"Predicted optimal sequence: \\n\", graph_list[problem_index].optimal_seq)"
   ]
  },
  {
   "cell_type": "code",
   "execution_count": 31,
   "id": "1901fafa-b2ca-4773-9f37-c9e55714d9da",
   "metadata": {},
   "outputs": [
    {
     "name": "stdout",
     "output_type": "stream",
     "text": [
      "Problem font grade:  7C\n",
      "Link to picture of problem:  https://moonboard.com/Problems/View/254625/f%C3%BCr-immer-mein\n",
      "Predicted optimal sequence: \n",
      " [[ 7  4  7  4]\n",
      " [ 7  4  6  9]\n",
      " [ 3  9  6  9]\n",
      " [ 2 14  6  9]\n",
      " [ 2 14  2 17]\n",
      " [ 2 17  2 17]]\n"
     ]
    }
   ],
   "source": [
    "#Predicts a reasonable sequence, where it does two realistic left hand moves in a row.\n",
    "problem_index = 37046\n",
    "print(\"Problem font grade: \", graph_list[problem_index].problem['grade'])\n",
    "print(\"Link to picture of problem: \", graph_list[problem_index].problem['url'])\n",
    "print(\"Predicted optimal sequence: \\n\", graph_list[problem_index].optimal_seq)"
   ]
  },
  {
   "cell_type": "code",
   "execution_count": 32,
   "id": "c6ee75cf-9c08-4e20-ab79-df8477d2c588",
   "metadata": {},
   "outputs": [
    {
     "name": "stdout",
     "output_type": "stream",
     "text": [
      "Problem font grade:  7B+\n",
      "Link to picture of problem:  https://moonboard.com/Problems/View/191609/capitanbogli\n",
      "Predicted optimal sequence: \n",
      " [[10  4 10  4]\n",
      " [ 4  7 10  4]\n",
      " [ 4  7  4  7]\n",
      " [ 4  7  6 10]\n",
      " [ 2 14  6 10]\n",
      " [ 2 14  6 17]\n",
      " [ 6 17  6 17]]\n"
     ]
    }
   ],
   "source": [
    "#Predicts a reasonable sequence, though matching hands on (4,7) is unnecessary\n",
    "problem_index = 40550\n",
    "print(\"Problem font grade: \", graph_list[problem_index].problem['grade'])\n",
    "print(\"Link to picture of problem: \", graph_list[problem_index].problem['url'])\n",
    "print(\"Predicted optimal sequence: \\n\", graph_list[problem_index].optimal_seq)"
   ]
  },
  {
   "cell_type": "code",
   "execution_count": 33,
   "id": "90e2bb5a-f7a2-4811-ada6-a5776bfad879",
   "metadata": {},
   "outputs": [
    {
     "name": "stdout",
     "output_type": "stream",
     "text": [
      "Problem font grade:  6B+\n",
      "Link to picture of problem:  https://moonboard.com/Problems/View/170190/saluhallen-6\n",
      "Predicted optimal sequence: \n",
      " [[ 4  5  7  4]\n",
      " [ 4  5  6  8]\n",
      " [ 6  8  6  8]\n",
      " [ 6 12  6  8]\n",
      " [ 6 12  6 12]\n",
      " [ 4 14  6 12]\n",
      " [ 4 14  8 17]\n",
      " [ 8 17  8 17]]\n"
     ]
    }
   ],
   "source": [
    "#Predicts a slightly strange sequence, electing to skip the hold at (1,10).\n",
    "problem_index = 41780\n",
    "print(\"Problem font grade: \", graph_list[problem_index].problem['grade'])\n",
    "print(\"Link to picture of problem: \", graph_list[problem_index].problem['url'])\n",
    "print(\"Predicted optimal sequence: \\n\", graph_list[problem_index].optimal_seq)"
   ]
  },
  {
   "cell_type": "code",
   "execution_count": 58,
   "id": "67295915-a72f-4d35-837c-ce781baaadc4",
   "metadata": {},
   "outputs": [
    {
     "name": "stdout",
     "output_type": "stream",
     "text": [
      "Problem font grade:  7C+\n",
      "Link to picture of problem:  https://moonboard.com/Problems/View/322940/ghost-town\n",
      "Predicted optimal sequence: \n",
      " [[ 3  5  7  4]\n",
      " [ 3  5  8  7]\n",
      " [ 4 10  8  7]\n",
      " [ 4 10  7 15]\n",
      " [ 7 17  7 15]\n",
      " [ 7 17  7 17]]\n"
     ]
    }
   ],
   "source": [
    "#Predicts a reasonable sequence\n",
    "problem_index = 23610\n",
    "print(\"Problem font grade: \", graph_list[problem_index].problem['grade'])\n",
    "print(\"Link to picture of problem: \", graph_list[problem_index].problem['url'])\n",
    "print(\"Predicted optimal sequence: \\n\", graph_list[problem_index].optimal_seq)"
   ]
  },
  {
   "cell_type": "code",
   "execution_count": 35,
   "id": "d01e9010-4b46-4a30-94fe-79fb52a0fd93",
   "metadata": {},
   "outputs": [
    {
     "name": "stdout",
     "output_type": "stream",
     "text": [
      "Problem font grade:  7A+\n",
      "Link to picture of problem:  https://moonboard.com/Problems/View/305656/tjockis\n",
      "Predicted optimal sequence: \n",
      " [[ 5  4  5  4]\n",
      " [ 2  9  5  4]\n",
      " [ 2  9  7 11]\n",
      " [ 5 13  7 11]\n",
      " [ 5 13 10 17]\n",
      " [10 17 10 17]]\n"
     ]
    }
   ],
   "source": [
    "#Predicts a reasonable sequence\n",
    "problem_index = 33798\n",
    "print(\"Problem font grade: \", graph_list[problem_index].problem['grade'])\n",
    "print(\"Link to picture of problem: \", graph_list[problem_index].problem['url'])\n",
    "print(\"Predicted optimal sequence: \\n\", graph_list[problem_index].optimal_seq)"
   ]
  },
  {
   "cell_type": "code",
   "execution_count": 36,
   "id": "d55561c2-4bc9-436d-a958-515ffe226d3c",
   "metadata": {},
   "outputs": [
    {
     "name": "stdout",
     "output_type": "stream",
     "text": [
      "Problem font grade:  6B+\n",
      "Link to picture of problem:  https://moonboard.com/Problems/View/308058/maggie-s-problem\n",
      "Predicted optimal sequence: \n",
      " [[ 6  1 10  4]\n",
      " [ 9  7 10  4]\n",
      " [ 9  7 10  8]\n",
      " [ 7 11 10  8]\n",
      " [ 7 11  8 13]\n",
      " [ 4 14  8 13]\n",
      " [ 4 14  4 17]\n",
      " [ 4 17  4 17]]\n"
     ]
    }
   ],
   "source": [
    "#Predicts a reasonable sequence\n",
    "problem_index = 30200\n",
    "print(\"Problem font grade: \", graph_list[problem_index].problem['grade'])\n",
    "print(\"Link to picture of problem: \", graph_list[problem_index].problem['url'])\n",
    "print(\"Predicted optimal sequence: \\n\", graph_list[problem_index].optimal_seq)"
   ]
  },
  {
   "cell_type": "markdown",
   "id": "64cf2f0d-ec21-437b-bf78-71a4c37b9638",
   "metadata": {},
   "source": [
    "# 7. Classification Accuracy Analysis"
   ]
  },
  {
   "cell_type": "markdown",
   "id": "6b1127ef-d32b-4f3e-b53e-4914c786066a",
   "metadata": {},
   "source": [
    "The V-grade classification accuracy of the model slightly outperforms that which was reported in https://arxiv.org/pdf/2102.01788. They reported test/dev set accuracies of around 47% and +/-1 accuracies of 85%. Here, I get 49% and 88%. "
   ]
  },
  {
   "cell_type": "code",
   "execution_count": 25,
   "id": "5d52be79-89a6-452d-a27f-db12c169c85d",
   "metadata": {},
   "outputs": [
    {
     "name": "stdout",
     "output_type": "stream",
     "text": [
      "Train V accuracy:  0.49000299162345434\n",
      "Train V accuracy pm1:  0.8840496609493419\n",
      "\n",
      "-------------------------------------------------\n",
      "\n",
      "Test V accuracy:  0.49102512963701633\n",
      "Test V accuracy pm1:  0.8851216593538094\n"
     ]
    }
   ],
   "source": [
    "Yp = torch.sum(model(Xt, Mask_t).squeeze(), axis = 1)\n",
    "\n",
    "_, _, acc_v, acc_v_pm1 = calculate_accuracy(Yp, Yt)\n",
    "\n",
    "print(\"Train V accuracy: \", acc_v)\n",
    "print(\"Train V accuracy pm1: \", acc_v_pm1)\n",
    "\n",
    "print(\"\\n-------------------------------------------------\\n\")\n",
    "\n",
    "Yp = torch.sum(model(Xtest, Mask_test).squeeze(), axis = 1)\n",
    "\n",
    "_, _, acc_v, acc_v_pm1 = calculate_accuracy(Yp, Ytest)\n",
    "\n",
    "print(\"Test V accuracy: \", acc_v)\n",
    "print(\"Test V accuracy pm1: \", acc_v_pm1)"
   ]
  },
  {
   "cell_type": "markdown",
   "id": "e2b20c9c-5ab9-4d6a-a804-6eea50e31f9c",
   "metadata": {},
   "source": [
    "The confusion matrix shows that my algorithm more accurately predicts the difficulty of lower grade climbs, similarly to the reslts reported in https://arxiv.org/pdf/2102.01788."
   ]
  },
  {
   "cell_type": "code",
   "execution_count": 26,
   "id": "fab80feb-b93b-4cd6-81e1-99cbd1ab429d",
   "metadata": {},
   "outputs": [
    {
     "data": {
      "image/png": "[encoded data removed]",
      "text/plain": [
       "<Figure size 640x480 with 2 Axes>"
      ]
     },
     "metadata": {},
     "output_type": "display_data"
    }
   ],
   "source": [
    "Yp1 = torch.sum(model(Xt, Mask_t).squeeze(), axis = 1)\n",
    "Yp2 = torch.sum(model(Xtest, Mask_test).squeeze(), axis = 1)\n",
    "\n",
    "predicted = np.concatenate((convert_class_to_V_scale(get_class(Yp1)),convert_class_to_V_scale(get_class(Yp2))))\n",
    "actual = np.concatenate((convert_class_to_V_scale(get_class(Yt)),convert_class_to_V_scale(get_class(Ytest))))\n",
    "confusion_matrix = metrics.confusion_matrix(actual, predicted)\n",
    "cm_display = metrics.ConfusionMatrixDisplay(confusion_matrix = confusion_matrix, display_labels = ['V3', 'V4', 'V5', 'V6', 'V7', 'V8', 'V9', 'V10', 'V11', 'V12']) #\n",
    "cm_display.plot()\n",
    "plt.show()"
   ]
  }
 ],
 "metadata": {
  "kernelspec": {
   "display_name": "Python 3 (ipykernel)",
   "language": "python",
   "name": "python3"
  },
  "language_info": {
   "codemirror_mode": {
    "name": "ipython",
    "version": 3
   },
   "file_extension": ".py",
   "mimetype": "text/x-python",
   "name": "python",
   "nbconvert_exporter": "python",
   "pygments_lexer": "ipython3",
   "version": "3.11.8"
  }
 },
 "nbformat": 4,
 "nbformat_minor": 5
}
