{
 "cells": [
  {
   "cell_type": "markdown",
   "id": "5948341b-3291-40ee-84f7-85f479c794fa",
   "metadata": {},
   "source": [
    "# 1. Load MoonBoard Problem Data"
   ]
  },
  {
   "cell_type": "code",
   "execution_count": 1,
   "id": "225813e7-a955-4dd4-a8c6-3db8c3fba889",
   "metadata": {},
   "outputs": [],
   "source": [
    "import pickle\n",
    "import numpy as np\n",
    "import matplotlib.pyplot as plt\n",
    "import copy\n",
    "from GraphFunctions import *"
   ]
  },
  {
   "cell_type": "code",
   "execution_count": 2,
   "id": "15d2afa2-a2fd-4644-bfe9-baf2d7478b2b",
   "metadata": {},
   "outputs": [],
   "source": [
    "#Data is taken from https://github.com/jrchang612/MoonBoardRNN\n",
    "raw_data_path = 'moonGen_scrape_2016_final'\n",
    "with open(raw_data_path, 'rb') as f:\n",
    "    MoonBoard_2016_raw = pickle.load(f)\n",
    "    \n",
    "#Make holds list of numpy arrays\n",
    "for key, problem in MoonBoard_2016_raw.items():\n",
    "    problem['start'] = [np.array(el) for el in problem['start']]\n",
    "    problem['mid'] = [np.array(el) for el in problem['mid']]\n",
    "    problem['end'] = [np.array(el) for el in problem['end']]\n",
    "    \n",
    "    if len(problem['start']) > 2: #Some problems were transcribed weirdly and have many repeating holds\n",
    "        problem['start'] = list(np.unique(np.array(problem['start']), axis = 0))\n",
    "        problem['mid'] = list(np.unique(np.array(problem['mid']), axis = 0))\n",
    "        problem['end'] = list(np.unique(np.array(problem['end']), axis = 0))"
   ]
  },
  {
   "cell_type": "markdown",
   "id": "04b6cdcf-4376-4850-888c-b0d1d32f095c",
   "metadata": {},
   "source": [
    "Create a list of problems than have been repeated at least 5 times. Augment the data by creating left-right mirrored versions of each of these climbs, which should have the same difficulty. "
   ]
  },
  {
   "cell_type": "code",
   "execution_count": 3,
   "id": "22ba16ab-6583-47b7-b628-c4cb93d3e0d0",
   "metadata": {},
   "outputs": [
    {
     "name": "stdout",
     "output_type": "stream",
     "text": [
      "There are 50140 climbs with difficulty between V4 and V11 that have been repeated at least once.\n"
     ]
    }
   ],
   "source": [
    "problem_list = []\n",
    "for key, problem in MoonBoard_2016_raw.items():\n",
    "    if grade_to_class[problem['grade']] > 0.5 and grade_to_class[problem['grade']] < 10.5 and problem['repeats'] >= 1 and len(problem['start']) <= 2: #<9.5 make V10\n",
    "        problem['mirrored'] = False\n",
    "        problem_list += [problem]\n",
    "\n",
    "        mirrored_problem = copy.deepcopy(problem)\n",
    "        mirrored_problem['mirrored'] = True\n",
    "        mirrored_problem['start'] = [np.array([1, -1])*(np.array([10, 0]) - el) for el in mirrored_problem['start']]\n",
    "        mirrored_problem['mid'] = [np.array([1, -1])*(np.array([10, 0]) - el) for el in mirrored_problem['mid']]\n",
    "        mirrored_problem['end'] = [np.array([1, -1])*(np.array([10, 0]) - el) for el in mirrored_problem['end']]\n",
    "        problem_list += [mirrored_problem]\n",
    "        \n",
    "print(\"There are %d climbs with difficulty between V4 and V11 that have been repeated at least once.\" %len(problem_list))"
   ]
  },
  {
   "cell_type": "code",
   "execution_count": 4,
   "id": "63f22a5c-cc6a-4f35-a636-7c31a92fcad9",
   "metadata": {},
   "outputs": [
    {
     "data": {
      "image/png": "[encoded data removed]",
      "text/plain": [
       "<Figure size 640x480 with 1 Axes>"
      ]
     },
     "metadata": {},
     "output_type": "display_data"
    }
   ],
   "source": [
    "grades = np.zeros(len(problem_list))\n",
    "for i in range(len(problem_list)):\n",
    "    grades[i] = grade_to_class[problem_list[i]['grade']]\n",
    "\n",
    "plt.hist(grades, bins = [0.5, 1.5, 2.5, 3.5, 4.5, 5.5, 6.5, 7.5, 8.5, 9.5,10.5])\n",
    "plt.xticks([1, 2, 3, 4, 5, 6, 7, 8, 9, 10])\n",
    "plt.xlim([0, 11])\n",
    "plt.xlabel(\"Climb difficulty class\")\n",
    "plt.ylabel(\"Number of climbs\")\n",
    "plt.title(\"Histogram of Climb Difficulties\")\n",
    "plt.show()"
   ]
  },
  {
   "cell_type": "markdown",
   "id": "87e31944-0a75-4182-870a-4156d441b22d",
   "metadata": {},
   "source": [
    "# 2. Load Moonnboard Hold Data"
   ]
  },
  {
   "cell_type": "code",
   "execution_count": 5,
   "id": "e3a46b8d-5b33-4902-a93a-690e87cbca64",
   "metadata": {},
   "outputs": [],
   "source": [
    "import pandas as pd"
   ]
  },
  {
   "cell_type": "code",
   "execution_count": 6,
   "id": "83b1b449-3a07-4899-af5e-db93b3520085",
   "metadata": {},
   "outputs": [],
   "source": [
    "holdDiff = pd.read_csv(\"holdData.csv\")\n",
    "X_coord, Y_coord, LH, RH, Angle = holdDiff['X_coord'], holdDiff['Y_coord'], holdDiff['Difficulties LH'], holdDiff['Difficulties RH'], holdDiff['Angle']\n",
    "holdDict = {}\n",
    "for i in range(len(X_coord)):\n",
    "    holdDict[(X_coord[i], Y_coord[i])] = {'LH': LH[i], \n",
    "                              'RH': RH[i],\n",
    "                              'Angle': Angle[i]}"
   ]
  },
  {
   "cell_type": "code",
   "execution_count": 7,
   "id": "4fe46f24-b17c-44aa-bcd8-febcfedca823",
   "metadata": {},
   "outputs": [],
   "source": [
    "#For mirrored climbs, the hold parameters needs to be mirrored as well. \n",
    "holdDictMirror = {}\n",
    "for key, el in holdDict.items():\n",
    "    holdDictMirror[(10-key[0], key[1])] = {'LH': el['RH'],\n",
    "                                        'RH': el['LH'],\n",
    "                                        'Angle': -el['Angle']}"
   ]
  },
  {
   "cell_type": "markdown",
   "id": "b724e6c3-4fe2-4c7e-9de5-8065a2e92c48",
   "metadata": {},
   "source": [
    "# 3. Make Problems Into Graph"
   ]
  },
  {
   "cell_type": "markdown",
   "id": "e40894e8-bf9c-47a1-8cd7-dc6209e977cc",
   "metadata": {},
   "source": [
    "Each problem on the moonboard is defined by a set of holds. The position of a climber, while climbing, can be defined by the position of their left hand and their right hand. From any position, they can move either their left or right hand. I create a graph in which each position, defined by a unique left hand and right hand pair, is a node. Each position, or node, is connected to every other position that requires moving only one hand. The edge value of the connections will later be learned and computed using a MLP model; by default they are initialized to zero. The problemGraph object is equiped to compute the optimal sequence given its edge values.\n",
    "\n",
    "Initalizing the graphs takes a few minutes because it requires enumerating every possible move for every problem."
   ]
  },
  {
   "cell_type": "code",
   "execution_count": 8,
   "id": "2826de9b-893f-4444-951d-adf015739cdd",
   "metadata": {},
   "outputs": [],
   "source": [
    "graph_list = []\n",
    "for problem in problem_list:\n",
    "    if problem['mirrored'] == False:\n",
    "        graph_list += [problemGraph(problem, holdDict)]\n",
    "    else:\n",
    "        graph_list += [problemGraph(problem, holdDictMirror)]"
   ]
  },
  {
   "cell_type": "markdown",
   "id": "f7bf7459-fc04-4414-8d45-3548d82dc693",
   "metadata": {},
   "source": [
    "# 4. Train the Model"
   ]
  },
  {
   "cell_type": "code",
   "execution_count": 9,
   "id": "8ab867bd-3b7a-4346-906d-83e2a5371ab7",
   "metadata": {},
   "outputs": [],
   "source": [
    "import torch\n",
    "import torch.nn as nn\n",
    "import torch.optim as optim\n",
    "device = torch.device(\"cuda\" if torch.cuda.is_available() else \"cpu\")\n",
    "\n",
    "from sklearn import metrics\n",
    "from sklearn.model_selection import train_test_split"
   ]
  },
  {
   "cell_type": "raw",
   "id": "5bd86806-f56a-499b-9c99-279209b9107b",
   "metadata": {},
   "source": [
    "Create a simple MLP model for the difficulty of a move defined by a vector with 18 inputs. \n",
    "\n",
    "Inputs to the model have the dimension (N, N_s, 18), where N is the batch size of the input and N_s is the length of the sequence. Since the length of the optimal sequence varies from one climb to the number, N_s varies from one climb to the next. To enable vectorized computation, this is addressed by padding all sequences to the same length N_s and defining a mask such that the effects of padded terms are ignored. "
   ]
  },
  {
   "cell_type": "code",
   "execution_count": 10,
   "id": "d2fdcbbc-d404-487a-9c3f-d82f771f69ca",
   "metadata": {},
   "outputs": [],
   "source": [
    "class SimpleModel(torch.nn.Module):\n",
    "    def __init__(self, input_size = 18, num_layers = 3, hidden = 20):\n",
    "        super(SimpleModel, self).__init__()\n",
    "        self.relu = torch.nn.ReLU()\n",
    "        self.lrelu = torch.nn.LeakyReLU(negative_slope=0.0001)\n",
    "\n",
    "        self.linear_layers = nn.ModuleList()\n",
    "        self.linear_layers.append(torch.nn.Linear(input_size, hidden))\n",
    "\n",
    "        for i in range(num_layers):\n",
    "            self.linear_layers.append(torch.nn.Linear(hidden, hidden))\n",
    "            \n",
    "        self.linear_layers.append(torch.nn.Linear(hidden, 100))\n",
    "        self.linear_layers.append(torch.nn.Linear(100, 10))\n",
    "        self.linear_layers.append(torch.nn.Linear(10, 1))\n",
    "\n",
    "    def forward(self, x, masks):\n",
    "\n",
    "        for i in range(len(self.linear_layers)-1):\n",
    "            linear = self.linear_layers[i]\n",
    "            x = (linear(x).permute(2, 0 ,1)*masks).permute(1,2,0)\n",
    "            x = self.lrelu(x)\n",
    "\n",
    "        x = (self.linear_layers[-1](x).permute(2, 0 ,1)*masks).permute(1,2,0)\n",
    "        x = self.relu(x)\n",
    "        return x"
   ]
  },
  {
   "cell_type": "code",
   "execution_count": 11,
   "id": "132b547e-1e54-4ea0-aa1a-3e95d73610e5",
   "metadata": {},
   "outputs": [
    {
     "name": "stdout",
     "output_type": "stream",
     "text": [
      "SimpleModel(\n",
      "  (relu): ReLU()\n",
      "  (lrelu): LeakyReLU(negative_slope=0.0001)\n",
      "  (linear_layers): ModuleList(\n",
      "    (0): Linear(in_features=18, out_features=50, bias=True)\n",
      "    (1-3): 3 x Linear(in_features=50, out_features=50, bias=True)\n",
      "    (4): Linear(in_features=50, out_features=100, bias=True)\n",
      "    (5): Linear(in_features=100, out_features=10, bias=True)\n",
      "    (6): Linear(in_features=10, out_features=1, bias=True)\n",
      "  )\n",
      ")\n",
      "\n",
      "Total numer of trainable parameters is 14721.\n"
     ]
    }
   ],
   "source": [
    "n_resequence = 30 #Number of time to recalculate the optimal sequences for each climb\n",
    "n_epochs = 100 #Number of training epoch for each set of optimal sequences\n",
    "batch_size = 256 #The batch size during training\n",
    "\n",
    "torch.manual_seed(15) #Set the seed for initializing the model for consistency, but does not really matter\n",
    "model = SimpleModel(input_size = 18, hidden = 50, num_layers = 3).to(device) #Create the model\n",
    "optimizer = optim.Adam(model.parameters(), lr= 1e-5, weight_decay= 1) #Create the optimizer with learning rate 1e-5 and L2 regularization constant of 1\n",
    "loss_fn = nn.MSELoss(reduction = 'mean')  # L2 loss\n",
    "\n",
    "printModelSummary(model)"
   ]
  },
  {
   "cell_type": "code",
   "execution_count": 12,
   "id": "e20905b0-871e-42dd-9b18-699e05b24742",
   "metadata": {},
   "outputs": [],
   "source": [
    "#Define a function that takes an numpy array of moves and outputs a numpy array of difficulty scores using the model\n",
    "def calc_move_difficulty(moves):\n",
    "    X = torch.from_numpy(moves).type(torch.FloatTensor).to(device)\n",
    "    return model(X, torch.Tensor([1.]).to(device)).cpu().detach().numpy().squeeze()\n",
    "\n",
    "#Define a function to calculate the accuracy of the predictions made by the model\n",
    "def calculate_accuracy(Y_pred, Y_true):\n",
    "    #Y_pred is the sum of the difficulty score of all of the moves on a climb\n",
    "    #Y_true is the target difficulty score of the sum of the moves on a climb\n",
    "    \n",
    "    y_pred = get_class(Y_pred) #Convert from difficulty score to problem difficulty class\n",
    "    y_true = get_class(Y_true) #Convert from difficulty score to problem difficulty class\n",
    "\n",
    "    #Calculate the accuracy\n",
    "    acc = np.sum(y_pred == y_true)/len(y_pred) #Calculate the accuracy\n",
    "\n",
    "    #Calculate the accuracy plus or minus one\n",
    "    y_pred_p1, y_pred_m1 = y_pred + 1, y_pred - 1\n",
    "    acc_pm1 = (np.sum(y_pred == y_true) + np.sum(y_pred_p1 == y_true) + np.sum(y_pred_m1 == y_true))/len(y_pred)\n",
    "\n",
    "    #Repeat the calculations, but this time, instead of using font grades use the Heuco V grade system. \n",
    "    v_pred = convert_class_to_V_scale(y_pred)\n",
    "    v_true = convert_class_to_V_scale(y_true)\n",
    "    \n",
    "    #Calculate the accuracy of v grades\n",
    "    acc_v = np.sum(v_pred == v_true)/len(Yp)\n",
    "\n",
    "    #Calculate the accuracy of v grades plus or minus one\n",
    "    v_pred_p1, v_pred_m1 = v_pred + 1, v_pred - 1\n",
    "    acc_v_pm1 = (np.sum(v_pred == v_true) + np.sum(v_pred_p1 == v_true) + np.sum(v_pred_m1 == v_true))/len(Yp)\n",
    "    \n",
    "    return acc, acc_pm1, acc_v, acc_v_pm1\n",
    "\n",
    "def get_class(Y):\n",
    "    return np.round(2*(np.log2(Y.cpu().detach().numpy() + 1e-20)-2))\n",
    "\n",
    "def convert_class_to_V_scale(Y):\n",
    "    #In the V grades, 6C and 6C+ both correspond to a single class called V5.\n",
    "    #Similarly, 7B and 7B+ both corresponds to a single class called V8. \n",
    "    #Paper online report the accuracy of their predictions using V grades. \n",
    "    V = np.zeros_like(Y)\n",
    "\n",
    "    for i in range(len(Y)):\n",
    "        if Y[i] <= 2:\n",
    "            V[i] = Y[i]\n",
    "        elif Y[i] <= 6:\n",
    "            V[i] = Y[i]-1\n",
    "        else:\n",
    "            V[i] = Y[i]-2\n",
    "\n",
    "    return V"
   ]
  },
  {
   "cell_type": "code",
   "execution_count": 13,
   "id": "e5ba3913-a61d-4f6f-aaee-cc6848bd6f12",
   "metadata": {},
   "outputs": [],
   "source": [
    "history_list = []"
   ]
  },
  {
   "cell_type": "code",
   "execution_count": null,
   "id": "36f6737a-57cf-4d62-93d8-3a1e692d8841",
   "metadata": {},
   "outputs": [
    {
     "name": "stdout",
     "output_type": "stream",
     "text": [
      "For resequence 0 the longest sequence length is 3\n",
      "Finished epoch 0, latest loss 510.24749755859375, latest test loss 504.026123046875\n",
      "Finished epoch 10, latest loss 267.9197692871094, latest test loss 262.52020263671875\n",
      "Finished epoch 20, latest loss 254.4644775390625, latest test loss 249.112060546875\n",
      "Finished epoch 30, latest loss 249.6663360595703, latest test loss 244.2780303955078\n",
      "Finished epoch 40, latest loss 246.68545532226562, latest test loss 241.3055419921875\n",
      "Finished epoch 50, latest loss 245.0055389404297, latest test loss 239.67172241210938\n",
      "Finished epoch 60, latest loss 244.06053161621094, latest test loss 238.79464721679688\n",
      "Finished epoch 70, latest loss 243.45114135742188, latest test loss 238.251953125\n",
      "Finished epoch 80, latest loss 242.9986572265625, latest test loss 237.8638153076172\n",
      "Finished epoch 90, latest loss 242.64639282226562, latest test loss 237.5670166015625\n",
      "Finished epoch 99, latest loss 242.37271118164062, latest test loss 237.33860778808594\n",
      "For resequence 1 the longest sequence length is 4\n",
      "Finished epoch 0, latest loss 241.9973602294922, latest test loss 237.1952362060547\n",
      "Finished epoch 10, latest loss 241.28846740722656, latest test loss 236.54656982421875\n",
      "Finished epoch 20, latest loss 240.84800720214844, latest test loss 236.20343017578125\n",
      "Finished epoch 30, latest loss 240.46730041503906, latest test loss 235.8973388671875\n",
      "Finished epoch 40, latest loss 240.15249633789062, latest test loss 235.6378173828125\n",
      "Finished epoch 50, latest loss 239.88507080078125, latest test loss 235.41188049316406\n",
      "Finished epoch 60, latest loss 239.64642333984375, latest test loss 235.20802307128906\n",
      "Finished epoch 70, latest loss 239.43096923828125, latest test loss 235.02523803710938\n",
      "Finished epoch 80, latest loss 239.23252868652344, latest test loss 234.8584747314453\n",
      "Finished epoch 90, latest loss 239.0504150390625, latest test loss 234.70684814453125\n",
      "Finished epoch 99, latest loss 238.90060424804688, latest test loss 234.5790252685547\n",
      "For resequence 2 the longest sequence length is 5\n",
      "Finished epoch 0, latest loss 238.7466583251953, latest test loss 234.3961944580078\n",
      "Finished epoch 10, latest loss 238.12075805664062, latest test loss 233.9183349609375\n",
      "Finished epoch 20, latest loss 237.70228576660156, latest test loss 233.53585815429688\n",
      "Finished epoch 30, latest loss 237.34974670410156, latest test loss 233.20223999023438\n",
      "Finished epoch 40, latest loss 237.0401153564453, latest test loss 232.90122985839844\n",
      "Finished epoch 50, latest loss 236.7626190185547, latest test loss 232.6284942626953\n",
      "Finished epoch 60, latest loss 236.51341247558594, latest test loss 232.38046264648438\n",
      "Finished epoch 70, latest loss 236.2853546142578, latest test loss 232.15147399902344\n",
      "Finished epoch 80, latest loss 236.07501220703125, latest test loss 231.9412841796875\n",
      "Finished epoch 90, latest loss 235.8819122314453, latest test loss 231.7508544921875\n",
      "Finished epoch 99, latest loss 235.71946716308594, latest test loss 231.5933837890625\n",
      "For resequence 3 the longest sequence length is 7\n",
      "Finished epoch 0, latest loss 234.20721435546875, latest test loss 230.15187072753906\n",
      "Finished epoch 10, latest loss 232.4990997314453, latest test loss 228.75912475585938\n",
      "Finished epoch 20, latest loss 231.6371612548828, latest test loss 227.98399353027344\n",
      "Finished epoch 30, latest loss 231.00498962402344, latest test loss 227.38307189941406\n",
      "Finished epoch 40, latest loss 230.53221130371094, latest test loss 226.92613220214844\n",
      "Finished epoch 50, latest loss 230.1727752685547, latest test loss 226.57933044433594\n",
      "Finished epoch 60, latest loss 229.89219665527344, latest test loss 226.31103515625\n",
      "Finished epoch 70, latest loss 229.6671600341797, latest test loss 226.0957794189453\n",
      "Finished epoch 80, latest loss 229.48028564453125, latest test loss 225.91697692871094\n",
      "Finished epoch 90, latest loss 229.3146209716797, latest test loss 225.76101684570312\n",
      "Finished epoch 99, latest loss 229.17967224121094, latest test loss 225.64041137695312\n",
      "For resequence 4 the longest sequence length is 9\n",
      "Finished epoch 0, latest loss 223.58970642089844, latest test loss 219.4263153076172\n",
      "Finished epoch 10, latest loss 219.95571899414062, latest test loss 215.78854370117188\n",
      "Finished epoch 20, latest loss 218.53558349609375, latest test loss 214.21405029296875\n",
      "Finished epoch 30, latest loss 217.6508026123047, latest test loss 213.2639617919922\n",
      "Finished epoch 40, latest loss 216.9822998046875, latest test loss 212.59181213378906\n",
      "Finished epoch 50, latest loss 216.42550659179688, latest test loss 212.0454559326172\n",
      "Finished epoch 60, latest loss 215.9513702392578, latest test loss 211.5942840576172\n",
      "Finished epoch 70, latest loss 215.5227813720703, latest test loss 211.19320678710938\n",
      "Finished epoch 80, latest loss 215.14576721191406, latest test loss 210.8450927734375\n",
      "Finished epoch 90, latest loss 214.79612731933594, latest test loss 210.53355407714844\n",
      "Finished epoch 99, latest loss 214.50018310546875, latest test loss 210.27647399902344\n",
      "For resequence 5 the longest sequence length is 12\n",
      "Finished epoch 0, latest loss 206.8513641357422, latest test loss 202.27096557617188\n",
      "Finished epoch 10, latest loss 200.86419677734375, latest test loss 196.03802490234375\n",
      "Finished epoch 20, latest loss 198.5647735595703, latest test loss 193.69627380371094\n",
      "Finished epoch 30, latest loss 197.16970825195312, latest test loss 192.33126831054688\n",
      "Finished epoch 40, latest loss 196.16909790039062, latest test loss 191.38597106933594\n",
      "Finished epoch 50, latest loss 195.39646911621094, latest test loss 190.6792755126953\n",
      "Finished epoch 60, latest loss 194.7769775390625, latest test loss 190.12901306152344\n",
      "Finished epoch 70, latest loss 194.29116821289062, latest test loss 189.709228515625\n",
      "Finished epoch 80, latest loss 193.89878845214844, latest test loss 189.38381958007812\n",
      "Finished epoch 90, latest loss 193.5714569091797, latest test loss 189.13363647460938\n"
     ]
    }
   ],
   "source": [
    "for j in range(n_resequence):\n",
    "    \n",
    "    #Compute the edge values of each graph using the update move difficulty model and them find the optimal path to traverse it\n",
    "    longest_sequence = 0\n",
    "    for graph in graph_list:\n",
    "        graph.compute_edges(calc_move_difficulty)\n",
    "        graph.optimize_sequence()\n",
    "        if len(graph.optimal_seq) > longest_sequence:\n",
    "            longest_sequence = len(graph.optimal_seq)\n",
    "\n",
    "    print(\"For resequence %d the longest sequence length is %d\"%(j, longest_sequence))\n",
    "\n",
    "    X = [] #Sequence\n",
    "    L = [] #Unpadded sequence length\n",
    "    Y = [] #Grade class\n",
    "    \n",
    "    for graph in graph_list:\n",
    "        sequence = graph.optimal_moves\n",
    "        L.append(len(sequence))\n",
    "        sequence = np.pad(sequence, ((0, longest_sequence-len(sequence)), (0,0)))\n",
    "        X.append(sequence)\n",
    "        Y.append(2**(2+grade_to_class[graph.problem['grade']]/2))\n",
    "    \n",
    "    X_train, X_test, Y_train, Y_test, L_train, L_test = train_test_split(np.array(X), np.array(Y), np.array(L), test_size=0.2, random_state=42)\n",
    "    \n",
    "    Xt = torch.from_numpy(X_train).type(torch.FloatTensor).to(device)\n",
    "    Yt = torch.from_numpy(Y_train).type(torch.FloatTensor).to(device)\n",
    "    Lt = torch.from_numpy(L_train).type(torch.FloatTensor)\n",
    "    Mask_t = create_mask(Lt, longest_sequence).to(device)\n",
    "    \n",
    "    Xtest = torch.from_numpy(X_test).type(torch.FloatTensor).to(device)\n",
    "    Ytest = torch.from_numpy(Y_test).type(torch.FloatTensor).to(device)\n",
    "    Ltest = torch.from_numpy(L_test).type(torch.FloatTensor)\n",
    "    Mask_test = create_mask(Ltest, longest_sequence).to(device)\n",
    "    \n",
    "    history = {'loss': np.zeros(n_epochs), \n",
    "               'train accuracy': np.zeros(n_epochs),\n",
    "               'train accuracy pm1': np.zeros(n_epochs),\n",
    "               'train accuracy v': np.zeros(n_epochs),\n",
    "               'train accuracy v pm1': np.zeros(n_epochs),\n",
    "               'test loss': np.zeros(n_epochs), \n",
    "               'test accuracy': np.zeros(n_epochs), \n",
    "               'test accuracy pm1': np.zeros(n_epochs),\n",
    "               'test accuracy v': np.zeros(n_epochs),\n",
    "               'test accuracy v pm1': np.zeros(n_epochs)}\n",
    "    \n",
    "    for epoch in range(n_epochs):\n",
    "        for i in range(0, len(Y)//batch_size):\n",
    "            Yp = torch.sum(model(Xt[i*batch_size:(i+1)*batch_size], Mask_t[i*batch_size:(i+1)*batch_size]).squeeze(), axis = 1)\n",
    "            loss = loss_fn(Yp, Yt[i*batch_size:(i+1)*batch_size]).mean()\n",
    "            optimizer.zero_grad()\n",
    "            loss.backward()\n",
    "            optimizer.step()\n",
    "\n",
    "        Yp = torch.sum(model(Xt, Mask_t).squeeze(), axis = 1)\n",
    "        \n",
    "        loss = loss_fn(Yp, Yt).cpu().detach()\n",
    "        history['loss'][epoch] = loss\n",
    "        acc, acc_pm1, acc_v, acc_v_pm1 = calculate_accuracy(Yp, Yt)\n",
    "        \n",
    "        history['train accuracy'][epoch], history['train accuracy pm1'][epoch] = acc, acc_pm1\n",
    "        history['train accuracy v'][epoch], history['train accuracy v pm1'][epoch] = acc_v, acc_v_pm1\n",
    "        \n",
    "        Yp = torch.sum(model(Xtest, Mask_test).squeeze(), axis = 1)\n",
    "\n",
    "        test_loss = loss_fn(Yp, Ytest).cpu().detach()\n",
    "        history['test loss'][epoch] = test_loss\n",
    "        \n",
    "        acc, acc_pm1, acc_v, acc_v_pm1 = calculate_accuracy(Yp, Ytest)\n",
    "        history['test accuracy'][epoch], history['test accuracy pm1'][epoch] = acc, acc_pm1\n",
    "        history['test accuracy v'][epoch], history['test accuracy v pm1'][epoch] = acc_v, acc_v_pm1\n",
    "        \n",
    "        if epoch%10 == 0:\n",
    "            print(f'Finished epoch {epoch}, latest loss {loss}, latest test loss {test_loss}') #, latest accuracy {100*train_acc:.2f}%\n",
    "    \n",
    "    print(f'Finished epoch {epoch}, latest loss {loss}, latest test loss {test_loss}')\n",
    "\n",
    "    history_list += [history]\n",
    "\n",
    "#Optimize the sequences one last time with the final model\n",
    "for graph in graph_list:\n",
    "    graph.compute_edges(calc_move_difficulty)\n",
    "    graph.optimize_sequence()\n",
    "\n",
    "print(\"Done!\")"
   ]
  },
  {
   "cell_type": "markdown",
   "id": "d2fa2ab8-77fc-472c-a86f-92440136ad61",
   "metadata": {},
   "source": [
    "# 5. Plot Convergence Properties"
   ]
  },
  {
   "cell_type": "code",
   "execution_count": null,
   "id": "d587c9cf-102d-4aff-adb9-2dc3aab28570",
   "metadata": {},
   "outputs": [],
   "source": [
    "reseq = np.arange(len(history_list))\n",
    "loss_test, loss_train, acc_test, acc_test_pm1, acc_train, acc_train_pm1 = np.zeros(len(reseq)), np.zeros(len(reseq)), np.zeros(len(reseq)), np.zeros(len(reseq)), np.zeros(len(reseq)), np.zeros(len(reseq)) \n",
    "\n",
    "for i in range(len(history_list)):\n",
    "    hist = history_list[i]\n",
    "    loss_train[i] = hist['loss'][-1]\n",
    "    loss_test[i] = hist['test loss'][-1]\n",
    "    acc_test[i] = hist['test accuracy'][-1]\n",
    "    acc_test_pm1[i] = hist['test accuracy pm1'][-1]\n",
    "    acc_train[i] = hist['train accuracy'][-1]\n",
    "    acc_train_pm1[i] = hist['train accuracy pm1'][-1]"
   ]
  },
  {
   "cell_type": "code",
   "execution_count": null,
   "id": "b8fe6e94-20e1-49a7-ad9c-82e33c5326b1",
   "metadata": {},
   "outputs": [],
   "source": [
    "plt1 = plt.subplot(311)\n",
    "plt2 = plt.subplot(312)\n",
    "plt3 = plt.subplot(313)\n",
    "\n",
    "plt1.plot(reseq, loss_train)\n",
    "plt1.plot(reseq, loss_test)\n",
    "\n",
    "plt2.plot(reseq, acc_train)\n",
    "plt2.plot(reseq, acc_test)\n",
    "\n",
    "plt3.plot(reseq, acc_train_pm1)\n",
    "plt3.plot(reseq, acc_test_pm1)\n",
    "\n",
    "plt.show()"
   ]
  },
  {
   "cell_type": "markdown",
   "id": "09b3a685-7aba-4a00-821b-42ab22686f0b",
   "metadata": {},
   "source": [
    "# 6. Evaluating Determined Sequences"
   ]
  },
  {
   "cell_type": "markdown",
   "id": "a5e6bb4f-3a87-4c51-94a2-aafd7d8d0522",
   "metadata": {},
   "source": [
    "Does a reasonable job predicting beta! A couple examples are shown below. Overall, given that no physical insight was actually input other than the feature engineering and "
   ]
  },
  {
   "cell_type": "code",
   "execution_count": null,
   "id": "18264028-958d-4cbc-ab9a-08a3f240daa5",
   "metadata": {},
   "outputs": [],
   "source": [
    "#Predicts a reasonable sequence\n",
    "problem_index = 0\n",
    "print(graph_list[problem_index].problem['url'])\n",
    "print(graph_list[problem_index].optimal_seq)"
   ]
  },
  {
   "cell_type": "code",
   "execution_count": null,
   "id": "476fad89-4c8e-424b-962b-0f3e097b6a9b",
   "metadata": {},
   "outputs": [],
   "source": [
    "#Predicts a reasonable sequence\n",
    "problem_index = 25164\n",
    "print(graph_list[problem_index].problem['url'])\n",
    "print(graph_list[problem_index].optimal_seq)"
   ]
  },
  {
   "cell_type": "code",
   "execution_count": null,
   "id": "1901fafa-b2ca-4773-9f37-c9e55714d9da",
   "metadata": {},
   "outputs": [],
   "source": [
    "#Predicts a reasonable sequence\n",
    "problem_index = 37046\n",
    "print(graph_list[problem_index].problem['url'])\n",
    "print(graph_list[problem_index].optimal_seq)"
   ]
  },
  {
   "cell_type": "code",
   "execution_count": null,
   "id": "c6ee75cf-9c08-4e20-ab79-df8477d2c588",
   "metadata": {},
   "outputs": [],
   "source": [
    "#Predicts a reasonable sequence, though matching hands on (4,7) is unnecessary\n",
    "problem_index = 40550\n",
    "print(graph_list[problem_index].problem['url'])\n",
    "print(graph_list[problem_index].optimal_seq)"
   ]
  },
  {
   "cell_type": "code",
   "execution_count": null,
   "id": "90e2bb5a-f7a2-4811-ada6-a5776bfad879",
   "metadata": {},
   "outputs": [],
   "source": [
    "#Fails to predict a reasonable sequence\n",
    "problem_index = 41780\n",
    "print(graph_list[problem_index].problem['url'])\n",
    "print(graph_list[problem_index].optimal_seq)"
   ]
  },
  {
   "cell_type": "code",
   "execution_count": null,
   "id": "67295915-a72f-4d35-837c-ce781baaadc4",
   "metadata": {},
   "outputs": [],
   "source": [
    "#Fails to predict a reasonable sequence, though predicts the same \"incorrect\" sequence as in the previously analyzed problem. Suggests that more data to learn the patterns better may fix the issue. \n",
    "problem_index = 23608\n",
    "print(graph_list[problem_index].problem['url'])\n",
    "print(graph_list[problem_index].optimal_seq)"
   ]
  },
  {
   "cell_type": "code",
   "execution_count": null,
   "id": "d01e9010-4b46-4a30-94fe-79fb52a0fd93",
   "metadata": {},
   "outputs": [],
   "source": [
    "#Predicts a reasonable sequence\n",
    "problem_index = 33798\n",
    "print(graph_list[problem_index].problem['url'])\n",
    "print(graph_list[problem_index].optimal_seq)"
   ]
  },
  {
   "cell_type": "code",
   "execution_count": null,
   "id": "d55561c2-4bc9-436d-a958-515ffe226d3c",
   "metadata": {},
   "outputs": [],
   "source": [
    "#Predicts a reasonable sequence, though the last move is likely not the easiest way. \n",
    "problem_index = 30200\n",
    "print(graph_list[problem_index].problem['url'])\n",
    "print(graph_list[problem_index].optimal_seq)"
   ]
  },
  {
   "cell_type": "markdown",
   "id": "64cf2f0d-ec21-437b-bf78-71a4c37b9638",
   "metadata": {},
   "source": [
    "# 7. Classification Accuracy Analysis"
   ]
  },
  {
   "cell_type": "markdown",
   "id": "6b1127ef-d32b-4f3e-b53e-4914c786066a",
   "metadata": {},
   "source": [
    "First check the accuracy"
   ]
  },
  {
   "cell_type": "code",
   "execution_count": null,
   "id": "5d52be79-89a6-452d-a27f-db12c169c85d",
   "metadata": {},
   "outputs": [],
   "source": [
    "Yp = torch.sum(model(Xt, Mask_t).squeeze(), axis = 1)\n",
    "\n",
    "_, _, acc_v, acc_v_pm1 = calculate_accuracy(Yp, Yt)\n",
    "\n",
    "print(\"Train V accuracy: \", acc_v)\n",
    "print(\"Train V accuracy pm1: \", acc_v_pm1)\n",
    "\n",
    "print(\"\\n-------------------------------------------------\\n\")\n",
    "\n",
    "Yp = torch.sum(model(Xtest, Mask_test).squeeze(), axis = 1)\n",
    "\n",
    "_, _, acc_v, acc_v_pm1 = calculate_accuracy(Yp, Ytest)\n",
    "\n",
    "print(\"Test V accuracy: \", acc_v)\n",
    "print(\"Test V accuracy pm1: \", acc_v_pm1)"
   ]
  },
  {
   "cell_type": "code",
   "execution_count": null,
   "id": "fab80feb-b93b-4cd6-81e1-99cbd1ab429d",
   "metadata": {},
   "outputs": [],
   "source": [
    "Yp1 = torch.sum(model(Xt, Mask_t).squeeze(), axis = 1)\n",
    "Yp2 = torch.sum(model(Xtest, Mask_test).squeeze(), axis = 1)\n",
    "\n",
    "predicted = np.concatenate((convert_class_to_V_scale(get_class(Yp1)),convert_class_to_V_scale(get_class(Yp2))))\n",
    "actual = np.concatenate((convert_class_to_V_scale(get_class(Yt)),convert_class_to_V_scale(get_class(Ytest))))\n",
    "confusion_matrix = metrics.confusion_matrix(actual, predicted)\n",
    "cm_display = metrics.ConfusionMatrixDisplay(confusion_matrix = confusion_matrix, display_labels = ['V3', 'V4', 'V5', 'V6', 'V7', 'V8', 'V9', 'V10', 'V11', 'V12']) #\n",
    "cm_display.plot()\n",
    "plt.show()"
   ]
  },
  {
   "cell_type": "code",
   "execution_count": null,
   "id": "aa55dd6c-6e36-4a39-9ded-180b754ee736",
   "metadata": {},
   "outputs": [],
   "source": []
  }
 ],
 "metadata": {
  "kernelspec": {
   "display_name": "Python 3 (ipykernel)",
   "language": "python",
   "name": "python3"
  },
  "language_info": {
   "codemirror_mode": {
    "name": "ipython",
    "version": 3
   },
   "file_extension": ".py",
   "mimetype": "text/x-python",
   "name": "python",
   "nbconvert_exporter": "python",
   "pygments_lexer": "ipython3",
   "version": "3.11.8"
  }
 },
 "nbformat": 4,
 "nbformat_minor": 5
}
